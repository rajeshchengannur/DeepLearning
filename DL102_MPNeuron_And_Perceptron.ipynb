{
  "nbformat": 4,
  "nbformat_minor": 0,
  "metadata": {
    "colab": {
      "name": "DL102_MPNeuron_And_Perceptron.ipynb",
      "provenance": [],
      "collapsed_sections": [
        "aL9_3lqymE4_"
      ],
      "authorship_tag": "ABX9TyMHk2WpGiB4Qs9uLSvwNwi4",
      "include_colab_link": true
    },
    "kernelspec": {
      "name": "python3",
      "display_name": "Python 3"
    }
  },
  "cells": [
    {
      "cell_type": "markdown",
      "metadata": {
        "id": "view-in-github",
        "colab_type": "text"
      },
      "source": [
        "<a href=\"https://colab.research.google.com/github/rajeshchengannur/DeepLearning/blob/main/DL102_MPNeuron_And_Perceptron.ipynb\" target=\"_parent\"><img src=\"https://colab.research.google.com/assets/colab-badge.svg\" alt=\"Open In Colab\"/></a>"
      ]
    },
    {
      "cell_type": "markdown",
      "metadata": {
        "id": "u_u8JM_yjNC5"
      },
      "source": [
        "Macullah Pitts Neuron\r\n",
        "Mucullah was a neuro scientist and Pitts was a statistician\r\n",
        "Dendrite (Inputs)-->  Soma (Processing unit) --> Synapse (Strength of the Nuerons, we can say weights) -->axon (Output to other neurons)\r\n",
        "\r\n",
        "Data --> Task --Model -->Loss -->Larning Algorithm -->Evaluation\r\n",
        "\r\n",
        "A model is a true relationship between Y and X  ie y= f(x)\r\n",
        "what the parameters are,what kind of input the function takes and what the output it gives.\r\n",
        "\r\n",
        "The input in MP neuron all the inputs are boolean and output also boolean\r\n",
        "\r\n",
        "Loss = True output - Predicted Output ($y-\\hat{y})$ The darw back with this is the positive values cancell out with the negative values. \r\n",
        "To avoid this losss =($y-\\hat{y})^2$\r\n",
        "\r\n"
      ]
    },
    {
      "cell_type": "code",
      "metadata": {
        "id": "5HpzJ8yekaVh"
      },
      "source": [
        "import sklearn.datasets\r\n",
        "import numpy as np"
      ],
      "execution_count": 4,
      "outputs": []
    },
    {
      "cell_type": "markdown",
      "metadata": {
        "id": "aL9_3lqymE4_"
      },
      "source": [
        "#Load Data"
      ]
    },
    {
      "cell_type": "code",
      "metadata": {
        "id": "BYqW4wYMiPif"
      },
      "source": [
        "breast_cancer = sklearn.datasets.load_breast_cancer()"
      ],
      "execution_count": 5,
      "outputs": []
    },
    {
      "cell_type": "code",
      "metadata": {
        "id": "LqO1TPXzibWZ"
      },
      "source": [
        "X=breast_cancer.data\r\n",
        "Y=breast_cancer.target"
      ],
      "execution_count": 6,
      "outputs": []
    },
    {
      "cell_type": "code",
      "metadata": {
        "colab": {
          "base_uri": "https://localhost:8080/"
        },
        "id": "e5IfOA8niq5B",
        "outputId": "ff6d7de2-3525-4717-bdf4-7f6497483c09"
      },
      "source": [
        "print(X.shape,Y.shape)"
      ],
      "execution_count": 7,
      "outputs": [
        {
          "output_type": "stream",
          "text": [
            "(569, 30) (569,)\n"
          ],
          "name": "stdout"
        }
      ]
    },
    {
      "cell_type": "code",
      "metadata": {
        "id": "d4_rl5sriyoP"
      },
      "source": [
        "import pandas as pd\r\n",
        "data = pd.DataFrame(breast_cancer.data,columns=breast_cancer.feature_names)"
      ],
      "execution_count": 8,
      "outputs": []
    },
    {
      "cell_type": "code",
      "metadata": {
        "id": "5dVsEHfajMJN"
      },
      "source": [
        "data['class'] = breast_cancer.target"
      ],
      "execution_count": 9,
      "outputs": []
    },
    {
      "cell_type": "code",
      "metadata": {
        "colab": {
          "base_uri": "https://localhost:8080/",
          "height": 0
        },
        "id": "xw-T7vAwjlLs",
        "outputId": "b496cbd7-d1c1-4df9-ca8f-12686a4c02df"
      },
      "source": [
        "data.head()"
      ],
      "execution_count": 10,
      "outputs": [
        {
          "output_type": "execute_result",
          "data": {
            "text/html": [
              "<div>\n",
              "<style scoped>\n",
              "    .dataframe tbody tr th:only-of-type {\n",
              "        vertical-align: middle;\n",
              "    }\n",
              "\n",
              "    .dataframe tbody tr th {\n",
              "        vertical-align: top;\n",
              "    }\n",
              "\n",
              "    .dataframe thead th {\n",
              "        text-align: right;\n",
              "    }\n",
              "</style>\n",
              "<table border=\"1\" class=\"dataframe\">\n",
              "  <thead>\n",
              "    <tr style=\"text-align: right;\">\n",
              "      <th></th>\n",
              "      <th>mean radius</th>\n",
              "      <th>mean texture</th>\n",
              "      <th>mean perimeter</th>\n",
              "      <th>mean area</th>\n",
              "      <th>mean smoothness</th>\n",
              "      <th>mean compactness</th>\n",
              "      <th>mean concavity</th>\n",
              "      <th>mean concave points</th>\n",
              "      <th>mean symmetry</th>\n",
              "      <th>mean fractal dimension</th>\n",
              "      <th>radius error</th>\n",
              "      <th>texture error</th>\n",
              "      <th>perimeter error</th>\n",
              "      <th>area error</th>\n",
              "      <th>smoothness error</th>\n",
              "      <th>compactness error</th>\n",
              "      <th>concavity error</th>\n",
              "      <th>concave points error</th>\n",
              "      <th>symmetry error</th>\n",
              "      <th>fractal dimension error</th>\n",
              "      <th>worst radius</th>\n",
              "      <th>worst texture</th>\n",
              "      <th>worst perimeter</th>\n",
              "      <th>worst area</th>\n",
              "      <th>worst smoothness</th>\n",
              "      <th>worst compactness</th>\n",
              "      <th>worst concavity</th>\n",
              "      <th>worst concave points</th>\n",
              "      <th>worst symmetry</th>\n",
              "      <th>worst fractal dimension</th>\n",
              "      <th>class</th>\n",
              "    </tr>\n",
              "  </thead>\n",
              "  <tbody>\n",
              "    <tr>\n",
              "      <th>0</th>\n",
              "      <td>17.99</td>\n",
              "      <td>10.38</td>\n",
              "      <td>122.80</td>\n",
              "      <td>1001.0</td>\n",
              "      <td>0.11840</td>\n",
              "      <td>0.27760</td>\n",
              "      <td>0.3001</td>\n",
              "      <td>0.14710</td>\n",
              "      <td>0.2419</td>\n",
              "      <td>0.07871</td>\n",
              "      <td>1.0950</td>\n",
              "      <td>0.9053</td>\n",
              "      <td>8.589</td>\n",
              "      <td>153.40</td>\n",
              "      <td>0.006399</td>\n",
              "      <td>0.04904</td>\n",
              "      <td>0.05373</td>\n",
              "      <td>0.01587</td>\n",
              "      <td>0.03003</td>\n",
              "      <td>0.006193</td>\n",
              "      <td>25.38</td>\n",
              "      <td>17.33</td>\n",
              "      <td>184.60</td>\n",
              "      <td>2019.0</td>\n",
              "      <td>0.1622</td>\n",
              "      <td>0.6656</td>\n",
              "      <td>0.7119</td>\n",
              "      <td>0.2654</td>\n",
              "      <td>0.4601</td>\n",
              "      <td>0.11890</td>\n",
              "      <td>0</td>\n",
              "    </tr>\n",
              "    <tr>\n",
              "      <th>1</th>\n",
              "      <td>20.57</td>\n",
              "      <td>17.77</td>\n",
              "      <td>132.90</td>\n",
              "      <td>1326.0</td>\n",
              "      <td>0.08474</td>\n",
              "      <td>0.07864</td>\n",
              "      <td>0.0869</td>\n",
              "      <td>0.07017</td>\n",
              "      <td>0.1812</td>\n",
              "      <td>0.05667</td>\n",
              "      <td>0.5435</td>\n",
              "      <td>0.7339</td>\n",
              "      <td>3.398</td>\n",
              "      <td>74.08</td>\n",
              "      <td>0.005225</td>\n",
              "      <td>0.01308</td>\n",
              "      <td>0.01860</td>\n",
              "      <td>0.01340</td>\n",
              "      <td>0.01389</td>\n",
              "      <td>0.003532</td>\n",
              "      <td>24.99</td>\n",
              "      <td>23.41</td>\n",
              "      <td>158.80</td>\n",
              "      <td>1956.0</td>\n",
              "      <td>0.1238</td>\n",
              "      <td>0.1866</td>\n",
              "      <td>0.2416</td>\n",
              "      <td>0.1860</td>\n",
              "      <td>0.2750</td>\n",
              "      <td>0.08902</td>\n",
              "      <td>0</td>\n",
              "    </tr>\n",
              "    <tr>\n",
              "      <th>2</th>\n",
              "      <td>19.69</td>\n",
              "      <td>21.25</td>\n",
              "      <td>130.00</td>\n",
              "      <td>1203.0</td>\n",
              "      <td>0.10960</td>\n",
              "      <td>0.15990</td>\n",
              "      <td>0.1974</td>\n",
              "      <td>0.12790</td>\n",
              "      <td>0.2069</td>\n",
              "      <td>0.05999</td>\n",
              "      <td>0.7456</td>\n",
              "      <td>0.7869</td>\n",
              "      <td>4.585</td>\n",
              "      <td>94.03</td>\n",
              "      <td>0.006150</td>\n",
              "      <td>0.04006</td>\n",
              "      <td>0.03832</td>\n",
              "      <td>0.02058</td>\n",
              "      <td>0.02250</td>\n",
              "      <td>0.004571</td>\n",
              "      <td>23.57</td>\n",
              "      <td>25.53</td>\n",
              "      <td>152.50</td>\n",
              "      <td>1709.0</td>\n",
              "      <td>0.1444</td>\n",
              "      <td>0.4245</td>\n",
              "      <td>0.4504</td>\n",
              "      <td>0.2430</td>\n",
              "      <td>0.3613</td>\n",
              "      <td>0.08758</td>\n",
              "      <td>0</td>\n",
              "    </tr>\n",
              "    <tr>\n",
              "      <th>3</th>\n",
              "      <td>11.42</td>\n",
              "      <td>20.38</td>\n",
              "      <td>77.58</td>\n",
              "      <td>386.1</td>\n",
              "      <td>0.14250</td>\n",
              "      <td>0.28390</td>\n",
              "      <td>0.2414</td>\n",
              "      <td>0.10520</td>\n",
              "      <td>0.2597</td>\n",
              "      <td>0.09744</td>\n",
              "      <td>0.4956</td>\n",
              "      <td>1.1560</td>\n",
              "      <td>3.445</td>\n",
              "      <td>27.23</td>\n",
              "      <td>0.009110</td>\n",
              "      <td>0.07458</td>\n",
              "      <td>0.05661</td>\n",
              "      <td>0.01867</td>\n",
              "      <td>0.05963</td>\n",
              "      <td>0.009208</td>\n",
              "      <td>14.91</td>\n",
              "      <td>26.50</td>\n",
              "      <td>98.87</td>\n",
              "      <td>567.7</td>\n",
              "      <td>0.2098</td>\n",
              "      <td>0.8663</td>\n",
              "      <td>0.6869</td>\n",
              "      <td>0.2575</td>\n",
              "      <td>0.6638</td>\n",
              "      <td>0.17300</td>\n",
              "      <td>0</td>\n",
              "    </tr>\n",
              "    <tr>\n",
              "      <th>4</th>\n",
              "      <td>20.29</td>\n",
              "      <td>14.34</td>\n",
              "      <td>135.10</td>\n",
              "      <td>1297.0</td>\n",
              "      <td>0.10030</td>\n",
              "      <td>0.13280</td>\n",
              "      <td>0.1980</td>\n",
              "      <td>0.10430</td>\n",
              "      <td>0.1809</td>\n",
              "      <td>0.05883</td>\n",
              "      <td>0.7572</td>\n",
              "      <td>0.7813</td>\n",
              "      <td>5.438</td>\n",
              "      <td>94.44</td>\n",
              "      <td>0.011490</td>\n",
              "      <td>0.02461</td>\n",
              "      <td>0.05688</td>\n",
              "      <td>0.01885</td>\n",
              "      <td>0.01756</td>\n",
              "      <td>0.005115</td>\n",
              "      <td>22.54</td>\n",
              "      <td>16.67</td>\n",
              "      <td>152.20</td>\n",
              "      <td>1575.0</td>\n",
              "      <td>0.1374</td>\n",
              "      <td>0.2050</td>\n",
              "      <td>0.4000</td>\n",
              "      <td>0.1625</td>\n",
              "      <td>0.2364</td>\n",
              "      <td>0.07678</td>\n",
              "      <td>0</td>\n",
              "    </tr>\n",
              "  </tbody>\n",
              "</table>\n",
              "</div>"
            ],
            "text/plain": [
              "   mean radius  mean texture  ...  worst fractal dimension  class\n",
              "0        17.99         10.38  ...                  0.11890      0\n",
              "1        20.57         17.77  ...                  0.08902      0\n",
              "2        19.69         21.25  ...                  0.08758      0\n",
              "3        11.42         20.38  ...                  0.17300      0\n",
              "4        20.29         14.34  ...                  0.07678      0\n",
              "\n",
              "[5 rows x 31 columns]"
            ]
          },
          "metadata": {
            "tags": []
          },
          "execution_count": 10
        }
      ]
    },
    {
      "cell_type": "code",
      "metadata": {
        "colab": {
          "base_uri": "https://localhost:8080/"
        },
        "id": "wXH2JCLFjrAS",
        "outputId": "118897a8-5984-49c1-fea8-2b9724847e51"
      },
      "source": [
        "print(data['class'].value_counts())"
      ],
      "execution_count": 11,
      "outputs": [
        {
          "output_type": "stream",
          "text": [
            "1    357\n",
            "0    212\n",
            "Name: class, dtype: int64\n"
          ],
          "name": "stdout"
        }
      ]
    },
    {
      "cell_type": "code",
      "metadata": {
        "colab": {
          "base_uri": "https://localhost:8080/"
        },
        "id": "eVXdgJucj537",
        "outputId": "bd514a41-6d98-475a-a634-ebfc4086c1fd"
      },
      "source": [
        "print(breast_cancer.target_names)"
      ],
      "execution_count": 12,
      "outputs": [
        {
          "output_type": "stream",
          "text": [
            "['malignant' 'benign']\n"
          ],
          "name": "stdout"
        }
      ]
    },
    {
      "cell_type": "code",
      "metadata": {
        "colab": {
          "base_uri": "https://localhost:8080/",
          "height": 0
        },
        "id": "csrAHuJCkHPW",
        "outputId": "3eae3973-f938-4e4a-8ceb-866ac32ac254"
      },
      "source": [
        "data.describe()"
      ],
      "execution_count": 13,
      "outputs": [
        {
          "output_type": "execute_result",
          "data": {
            "text/html": [
              "<div>\n",
              "<style scoped>\n",
              "    .dataframe tbody tr th:only-of-type {\n",
              "        vertical-align: middle;\n",
              "    }\n",
              "\n",
              "    .dataframe tbody tr th {\n",
              "        vertical-align: top;\n",
              "    }\n",
              "\n",
              "    .dataframe thead th {\n",
              "        text-align: right;\n",
              "    }\n",
              "</style>\n",
              "<table border=\"1\" class=\"dataframe\">\n",
              "  <thead>\n",
              "    <tr style=\"text-align: right;\">\n",
              "      <th></th>\n",
              "      <th>mean radius</th>\n",
              "      <th>mean texture</th>\n",
              "      <th>mean perimeter</th>\n",
              "      <th>mean area</th>\n",
              "      <th>mean smoothness</th>\n",
              "      <th>mean compactness</th>\n",
              "      <th>mean concavity</th>\n",
              "      <th>mean concave points</th>\n",
              "      <th>mean symmetry</th>\n",
              "      <th>mean fractal dimension</th>\n",
              "      <th>radius error</th>\n",
              "      <th>texture error</th>\n",
              "      <th>perimeter error</th>\n",
              "      <th>area error</th>\n",
              "      <th>smoothness error</th>\n",
              "      <th>compactness error</th>\n",
              "      <th>concavity error</th>\n",
              "      <th>concave points error</th>\n",
              "      <th>symmetry error</th>\n",
              "      <th>fractal dimension error</th>\n",
              "      <th>worst radius</th>\n",
              "      <th>worst texture</th>\n",
              "      <th>worst perimeter</th>\n",
              "      <th>worst area</th>\n",
              "      <th>worst smoothness</th>\n",
              "      <th>worst compactness</th>\n",
              "      <th>worst concavity</th>\n",
              "      <th>worst concave points</th>\n",
              "      <th>worst symmetry</th>\n",
              "      <th>worst fractal dimension</th>\n",
              "      <th>class</th>\n",
              "    </tr>\n",
              "  </thead>\n",
              "  <tbody>\n",
              "    <tr>\n",
              "      <th>count</th>\n",
              "      <td>569.000000</td>\n",
              "      <td>569.000000</td>\n",
              "      <td>569.000000</td>\n",
              "      <td>569.000000</td>\n",
              "      <td>569.000000</td>\n",
              "      <td>569.000000</td>\n",
              "      <td>569.000000</td>\n",
              "      <td>569.000000</td>\n",
              "      <td>569.000000</td>\n",
              "      <td>569.000000</td>\n",
              "      <td>569.000000</td>\n",
              "      <td>569.000000</td>\n",
              "      <td>569.000000</td>\n",
              "      <td>569.000000</td>\n",
              "      <td>569.000000</td>\n",
              "      <td>569.000000</td>\n",
              "      <td>569.000000</td>\n",
              "      <td>569.000000</td>\n",
              "      <td>569.000000</td>\n",
              "      <td>569.000000</td>\n",
              "      <td>569.000000</td>\n",
              "      <td>569.000000</td>\n",
              "      <td>569.000000</td>\n",
              "      <td>569.000000</td>\n",
              "      <td>569.000000</td>\n",
              "      <td>569.000000</td>\n",
              "      <td>569.000000</td>\n",
              "      <td>569.000000</td>\n",
              "      <td>569.000000</td>\n",
              "      <td>569.000000</td>\n",
              "      <td>569.000000</td>\n",
              "    </tr>\n",
              "    <tr>\n",
              "      <th>mean</th>\n",
              "      <td>14.127292</td>\n",
              "      <td>19.289649</td>\n",
              "      <td>91.969033</td>\n",
              "      <td>654.889104</td>\n",
              "      <td>0.096360</td>\n",
              "      <td>0.104341</td>\n",
              "      <td>0.088799</td>\n",
              "      <td>0.048919</td>\n",
              "      <td>0.181162</td>\n",
              "      <td>0.062798</td>\n",
              "      <td>0.405172</td>\n",
              "      <td>1.216853</td>\n",
              "      <td>2.866059</td>\n",
              "      <td>40.337079</td>\n",
              "      <td>0.007041</td>\n",
              "      <td>0.025478</td>\n",
              "      <td>0.031894</td>\n",
              "      <td>0.011796</td>\n",
              "      <td>0.020542</td>\n",
              "      <td>0.003795</td>\n",
              "      <td>16.269190</td>\n",
              "      <td>25.677223</td>\n",
              "      <td>107.261213</td>\n",
              "      <td>880.583128</td>\n",
              "      <td>0.132369</td>\n",
              "      <td>0.254265</td>\n",
              "      <td>0.272188</td>\n",
              "      <td>0.114606</td>\n",
              "      <td>0.290076</td>\n",
              "      <td>0.083946</td>\n",
              "      <td>0.627417</td>\n",
              "    </tr>\n",
              "    <tr>\n",
              "      <th>std</th>\n",
              "      <td>3.524049</td>\n",
              "      <td>4.301036</td>\n",
              "      <td>24.298981</td>\n",
              "      <td>351.914129</td>\n",
              "      <td>0.014064</td>\n",
              "      <td>0.052813</td>\n",
              "      <td>0.079720</td>\n",
              "      <td>0.038803</td>\n",
              "      <td>0.027414</td>\n",
              "      <td>0.007060</td>\n",
              "      <td>0.277313</td>\n",
              "      <td>0.551648</td>\n",
              "      <td>2.021855</td>\n",
              "      <td>45.491006</td>\n",
              "      <td>0.003003</td>\n",
              "      <td>0.017908</td>\n",
              "      <td>0.030186</td>\n",
              "      <td>0.006170</td>\n",
              "      <td>0.008266</td>\n",
              "      <td>0.002646</td>\n",
              "      <td>4.833242</td>\n",
              "      <td>6.146258</td>\n",
              "      <td>33.602542</td>\n",
              "      <td>569.356993</td>\n",
              "      <td>0.022832</td>\n",
              "      <td>0.157336</td>\n",
              "      <td>0.208624</td>\n",
              "      <td>0.065732</td>\n",
              "      <td>0.061867</td>\n",
              "      <td>0.018061</td>\n",
              "      <td>0.483918</td>\n",
              "    </tr>\n",
              "    <tr>\n",
              "      <th>min</th>\n",
              "      <td>6.981000</td>\n",
              "      <td>9.710000</td>\n",
              "      <td>43.790000</td>\n",
              "      <td>143.500000</td>\n",
              "      <td>0.052630</td>\n",
              "      <td>0.019380</td>\n",
              "      <td>0.000000</td>\n",
              "      <td>0.000000</td>\n",
              "      <td>0.106000</td>\n",
              "      <td>0.049960</td>\n",
              "      <td>0.111500</td>\n",
              "      <td>0.360200</td>\n",
              "      <td>0.757000</td>\n",
              "      <td>6.802000</td>\n",
              "      <td>0.001713</td>\n",
              "      <td>0.002252</td>\n",
              "      <td>0.000000</td>\n",
              "      <td>0.000000</td>\n",
              "      <td>0.007882</td>\n",
              "      <td>0.000895</td>\n",
              "      <td>7.930000</td>\n",
              "      <td>12.020000</td>\n",
              "      <td>50.410000</td>\n",
              "      <td>185.200000</td>\n",
              "      <td>0.071170</td>\n",
              "      <td>0.027290</td>\n",
              "      <td>0.000000</td>\n",
              "      <td>0.000000</td>\n",
              "      <td>0.156500</td>\n",
              "      <td>0.055040</td>\n",
              "      <td>0.000000</td>\n",
              "    </tr>\n",
              "    <tr>\n",
              "      <th>25%</th>\n",
              "      <td>11.700000</td>\n",
              "      <td>16.170000</td>\n",
              "      <td>75.170000</td>\n",
              "      <td>420.300000</td>\n",
              "      <td>0.086370</td>\n",
              "      <td>0.064920</td>\n",
              "      <td>0.029560</td>\n",
              "      <td>0.020310</td>\n",
              "      <td>0.161900</td>\n",
              "      <td>0.057700</td>\n",
              "      <td>0.232400</td>\n",
              "      <td>0.833900</td>\n",
              "      <td>1.606000</td>\n",
              "      <td>17.850000</td>\n",
              "      <td>0.005169</td>\n",
              "      <td>0.013080</td>\n",
              "      <td>0.015090</td>\n",
              "      <td>0.007638</td>\n",
              "      <td>0.015160</td>\n",
              "      <td>0.002248</td>\n",
              "      <td>13.010000</td>\n",
              "      <td>21.080000</td>\n",
              "      <td>84.110000</td>\n",
              "      <td>515.300000</td>\n",
              "      <td>0.116600</td>\n",
              "      <td>0.147200</td>\n",
              "      <td>0.114500</td>\n",
              "      <td>0.064930</td>\n",
              "      <td>0.250400</td>\n",
              "      <td>0.071460</td>\n",
              "      <td>0.000000</td>\n",
              "    </tr>\n",
              "    <tr>\n",
              "      <th>50%</th>\n",
              "      <td>13.370000</td>\n",
              "      <td>18.840000</td>\n",
              "      <td>86.240000</td>\n",
              "      <td>551.100000</td>\n",
              "      <td>0.095870</td>\n",
              "      <td>0.092630</td>\n",
              "      <td>0.061540</td>\n",
              "      <td>0.033500</td>\n",
              "      <td>0.179200</td>\n",
              "      <td>0.061540</td>\n",
              "      <td>0.324200</td>\n",
              "      <td>1.108000</td>\n",
              "      <td>2.287000</td>\n",
              "      <td>24.530000</td>\n",
              "      <td>0.006380</td>\n",
              "      <td>0.020450</td>\n",
              "      <td>0.025890</td>\n",
              "      <td>0.010930</td>\n",
              "      <td>0.018730</td>\n",
              "      <td>0.003187</td>\n",
              "      <td>14.970000</td>\n",
              "      <td>25.410000</td>\n",
              "      <td>97.660000</td>\n",
              "      <td>686.500000</td>\n",
              "      <td>0.131300</td>\n",
              "      <td>0.211900</td>\n",
              "      <td>0.226700</td>\n",
              "      <td>0.099930</td>\n",
              "      <td>0.282200</td>\n",
              "      <td>0.080040</td>\n",
              "      <td>1.000000</td>\n",
              "    </tr>\n",
              "    <tr>\n",
              "      <th>75%</th>\n",
              "      <td>15.780000</td>\n",
              "      <td>21.800000</td>\n",
              "      <td>104.100000</td>\n",
              "      <td>782.700000</td>\n",
              "      <td>0.105300</td>\n",
              "      <td>0.130400</td>\n",
              "      <td>0.130700</td>\n",
              "      <td>0.074000</td>\n",
              "      <td>0.195700</td>\n",
              "      <td>0.066120</td>\n",
              "      <td>0.478900</td>\n",
              "      <td>1.474000</td>\n",
              "      <td>3.357000</td>\n",
              "      <td>45.190000</td>\n",
              "      <td>0.008146</td>\n",
              "      <td>0.032450</td>\n",
              "      <td>0.042050</td>\n",
              "      <td>0.014710</td>\n",
              "      <td>0.023480</td>\n",
              "      <td>0.004558</td>\n",
              "      <td>18.790000</td>\n",
              "      <td>29.720000</td>\n",
              "      <td>125.400000</td>\n",
              "      <td>1084.000000</td>\n",
              "      <td>0.146000</td>\n",
              "      <td>0.339100</td>\n",
              "      <td>0.382900</td>\n",
              "      <td>0.161400</td>\n",
              "      <td>0.317900</td>\n",
              "      <td>0.092080</td>\n",
              "      <td>1.000000</td>\n",
              "    </tr>\n",
              "    <tr>\n",
              "      <th>max</th>\n",
              "      <td>28.110000</td>\n",
              "      <td>39.280000</td>\n",
              "      <td>188.500000</td>\n",
              "      <td>2501.000000</td>\n",
              "      <td>0.163400</td>\n",
              "      <td>0.345400</td>\n",
              "      <td>0.426800</td>\n",
              "      <td>0.201200</td>\n",
              "      <td>0.304000</td>\n",
              "      <td>0.097440</td>\n",
              "      <td>2.873000</td>\n",
              "      <td>4.885000</td>\n",
              "      <td>21.980000</td>\n",
              "      <td>542.200000</td>\n",
              "      <td>0.031130</td>\n",
              "      <td>0.135400</td>\n",
              "      <td>0.396000</td>\n",
              "      <td>0.052790</td>\n",
              "      <td>0.078950</td>\n",
              "      <td>0.029840</td>\n",
              "      <td>36.040000</td>\n",
              "      <td>49.540000</td>\n",
              "      <td>251.200000</td>\n",
              "      <td>4254.000000</td>\n",
              "      <td>0.222600</td>\n",
              "      <td>1.058000</td>\n",
              "      <td>1.252000</td>\n",
              "      <td>0.291000</td>\n",
              "      <td>0.663800</td>\n",
              "      <td>0.207500</td>\n",
              "      <td>1.000000</td>\n",
              "    </tr>\n",
              "  </tbody>\n",
              "</table>\n",
              "</div>"
            ],
            "text/plain": [
              "       mean radius  mean texture  ...  worst fractal dimension       class\n",
              "count   569.000000    569.000000  ...               569.000000  569.000000\n",
              "mean     14.127292     19.289649  ...                 0.083946    0.627417\n",
              "std       3.524049      4.301036  ...                 0.018061    0.483918\n",
              "min       6.981000      9.710000  ...                 0.055040    0.000000\n",
              "25%      11.700000     16.170000  ...                 0.071460    0.000000\n",
              "50%      13.370000     18.840000  ...                 0.080040    1.000000\n",
              "75%      15.780000     21.800000  ...                 0.092080    1.000000\n",
              "max      28.110000     39.280000  ...                 0.207500    1.000000\n",
              "\n",
              "[8 rows x 31 columns]"
            ]
          },
          "metadata": {
            "tags": []
          },
          "execution_count": 13
        }
      ]
    },
    {
      "cell_type": "code",
      "metadata": {
        "colab": {
          "base_uri": "https://localhost:8080/",
          "height": 0
        },
        "id": "H7S-JCP-kjc7",
        "outputId": "4a794dfd-4a7f-401f-ca40-6cb0b3b74b4a"
      },
      "source": [
        "data.groupby('class').mean()"
      ],
      "execution_count": 14,
      "outputs": [
        {
          "output_type": "execute_result",
          "data": {
            "text/html": [
              "<div>\n",
              "<style scoped>\n",
              "    .dataframe tbody tr th:only-of-type {\n",
              "        vertical-align: middle;\n",
              "    }\n",
              "\n",
              "    .dataframe tbody tr th {\n",
              "        vertical-align: top;\n",
              "    }\n",
              "\n",
              "    .dataframe thead th {\n",
              "        text-align: right;\n",
              "    }\n",
              "</style>\n",
              "<table border=\"1\" class=\"dataframe\">\n",
              "  <thead>\n",
              "    <tr style=\"text-align: right;\">\n",
              "      <th></th>\n",
              "      <th>mean radius</th>\n",
              "      <th>mean texture</th>\n",
              "      <th>mean perimeter</th>\n",
              "      <th>mean area</th>\n",
              "      <th>mean smoothness</th>\n",
              "      <th>mean compactness</th>\n",
              "      <th>mean concavity</th>\n",
              "      <th>mean concave points</th>\n",
              "      <th>mean symmetry</th>\n",
              "      <th>mean fractal dimension</th>\n",
              "      <th>radius error</th>\n",
              "      <th>texture error</th>\n",
              "      <th>perimeter error</th>\n",
              "      <th>area error</th>\n",
              "      <th>smoothness error</th>\n",
              "      <th>compactness error</th>\n",
              "      <th>concavity error</th>\n",
              "      <th>concave points error</th>\n",
              "      <th>symmetry error</th>\n",
              "      <th>fractal dimension error</th>\n",
              "      <th>worst radius</th>\n",
              "      <th>worst texture</th>\n",
              "      <th>worst perimeter</th>\n",
              "      <th>worst area</th>\n",
              "      <th>worst smoothness</th>\n",
              "      <th>worst compactness</th>\n",
              "      <th>worst concavity</th>\n",
              "      <th>worst concave points</th>\n",
              "      <th>worst symmetry</th>\n",
              "      <th>worst fractal dimension</th>\n",
              "    </tr>\n",
              "    <tr>\n",
              "      <th>class</th>\n",
              "      <th></th>\n",
              "      <th></th>\n",
              "      <th></th>\n",
              "      <th></th>\n",
              "      <th></th>\n",
              "      <th></th>\n",
              "      <th></th>\n",
              "      <th></th>\n",
              "      <th></th>\n",
              "      <th></th>\n",
              "      <th></th>\n",
              "      <th></th>\n",
              "      <th></th>\n",
              "      <th></th>\n",
              "      <th></th>\n",
              "      <th></th>\n",
              "      <th></th>\n",
              "      <th></th>\n",
              "      <th></th>\n",
              "      <th></th>\n",
              "      <th></th>\n",
              "      <th></th>\n",
              "      <th></th>\n",
              "      <th></th>\n",
              "      <th></th>\n",
              "      <th></th>\n",
              "      <th></th>\n",
              "      <th></th>\n",
              "      <th></th>\n",
              "      <th></th>\n",
              "    </tr>\n",
              "  </thead>\n",
              "  <tbody>\n",
              "    <tr>\n",
              "      <th>0</th>\n",
              "      <td>17.462830</td>\n",
              "      <td>21.604906</td>\n",
              "      <td>115.365377</td>\n",
              "      <td>978.376415</td>\n",
              "      <td>0.102898</td>\n",
              "      <td>0.145188</td>\n",
              "      <td>0.160775</td>\n",
              "      <td>0.087990</td>\n",
              "      <td>0.192909</td>\n",
              "      <td>0.062680</td>\n",
              "      <td>0.609083</td>\n",
              "      <td>1.210915</td>\n",
              "      <td>4.323929</td>\n",
              "      <td>72.672406</td>\n",
              "      <td>0.006780</td>\n",
              "      <td>0.032281</td>\n",
              "      <td>0.041824</td>\n",
              "      <td>0.015060</td>\n",
              "      <td>0.020472</td>\n",
              "      <td>0.004062</td>\n",
              "      <td>21.134811</td>\n",
              "      <td>29.318208</td>\n",
              "      <td>141.370330</td>\n",
              "      <td>1422.286321</td>\n",
              "      <td>0.144845</td>\n",
              "      <td>0.374824</td>\n",
              "      <td>0.450606</td>\n",
              "      <td>0.182237</td>\n",
              "      <td>0.323468</td>\n",
              "      <td>0.091530</td>\n",
              "    </tr>\n",
              "    <tr>\n",
              "      <th>1</th>\n",
              "      <td>12.146524</td>\n",
              "      <td>17.914762</td>\n",
              "      <td>78.075406</td>\n",
              "      <td>462.790196</td>\n",
              "      <td>0.092478</td>\n",
              "      <td>0.080085</td>\n",
              "      <td>0.046058</td>\n",
              "      <td>0.025717</td>\n",
              "      <td>0.174186</td>\n",
              "      <td>0.062867</td>\n",
              "      <td>0.284082</td>\n",
              "      <td>1.220380</td>\n",
              "      <td>2.000321</td>\n",
              "      <td>21.135148</td>\n",
              "      <td>0.007196</td>\n",
              "      <td>0.021438</td>\n",
              "      <td>0.025997</td>\n",
              "      <td>0.009858</td>\n",
              "      <td>0.020584</td>\n",
              "      <td>0.003636</td>\n",
              "      <td>13.379801</td>\n",
              "      <td>23.515070</td>\n",
              "      <td>87.005938</td>\n",
              "      <td>558.899440</td>\n",
              "      <td>0.124959</td>\n",
              "      <td>0.182673</td>\n",
              "      <td>0.166238</td>\n",
              "      <td>0.074444</td>\n",
              "      <td>0.270246</td>\n",
              "      <td>0.079442</td>\n",
              "    </tr>\n",
              "  </tbody>\n",
              "</table>\n",
              "</div>"
            ],
            "text/plain": [
              "       mean radius  mean texture  ...  worst symmetry  worst fractal dimension\n",
              "class                             ...                                         \n",
              "0        17.462830     21.604906  ...        0.323468                 0.091530\n",
              "1        12.146524     17.914762  ...        0.270246                 0.079442\n",
              "\n",
              "[2 rows x 30 columns]"
            ]
          },
          "metadata": {
            "tags": []
          },
          "execution_count": 14
        }
      ]
    },
    {
      "cell_type": "markdown",
      "metadata": {
        "id": "EhXptSWOmAOv"
      },
      "source": [
        "#Train Test split"
      ]
    },
    {
      "cell_type": "code",
      "metadata": {
        "id": "zYFLkQyikxog"
      },
      "source": [
        "from sklearn.model_selection import train_test_split"
      ],
      "execution_count": 15,
      "outputs": []
    },
    {
      "cell_type": "code",
      "metadata": {
        "id": "G48kCiukl81Y"
      },
      "source": [
        "X=data.drop('class',axis=1)\r\n",
        "Y=data['class']"
      ],
      "execution_count": 16,
      "outputs": []
    },
    {
      "cell_type": "code",
      "metadata": {
        "id": "WlqoCbhfmxY0"
      },
      "source": [
        "X_train,X_test,Y_train,Y_test=train_test_split(X,Y)"
      ],
      "execution_count": 17,
      "outputs": []
    },
    {
      "cell_type": "code",
      "metadata": {
        "colab": {
          "base_uri": "https://localhost:8080/"
        },
        "id": "Y57VlaKOnbWN",
        "outputId": "efbe5c27-27f7-4f6d-d91e-1662c5590769"
      },
      "source": [
        "print(X.shape,X_train.shape,X_test.shape)"
      ],
      "execution_count": 18,
      "outputs": [
        {
          "output_type": "stream",
          "text": [
            "(569, 30) (426, 30) (143, 30)\n"
          ],
          "name": "stdout"
        }
      ]
    },
    {
      "cell_type": "code",
      "metadata": {
        "id": "e24xU0sen2p9"
      },
      "source": [
        "X_train,X_test,Y_train,Y_test=train_test_split(X,Y,test_size=0.1)"
      ],
      "execution_count": 19,
      "outputs": []
    },
    {
      "cell_type": "code",
      "metadata": {
        "colab": {
          "base_uri": "https://localhost:8080/"
        },
        "id": "I949tLdmoZUo",
        "outputId": "413fd943-332f-4eac-dbb3-cafbe3a50f2e"
      },
      "source": [
        "print(Y.mean(),Y_test.mean(),Y_train.mean())"
      ],
      "execution_count": 20,
      "outputs": [
        {
          "output_type": "stream",
          "text": [
            "0.6274165202108963 0.5263157894736842 0.638671875\n"
          ],
          "name": "stdout"
        }
      ]
    },
    {
      "cell_type": "code",
      "metadata": {
        "id": "J7xxjAiCqHFJ"
      },
      "source": [
        ""
      ],
      "execution_count": 20,
      "outputs": []
    },
    {
      "cell_type": "code",
      "metadata": {
        "id": "SWiQTTVYoyv4"
      },
      "source": [
        "X_train,X_test,Y_train,Y_test=train_test_split(X,Y,test_size=0.1,stratify=Y) # stratify splits the data in an equal way as mean will not change much\r\n",
        "#Split maintains the ration of malignant and benign"
      ],
      "execution_count": 21,
      "outputs": []
    },
    {
      "cell_type": "code",
      "metadata": {
        "colab": {
          "base_uri": "https://localhost:8080/"
        },
        "id": "wnmK9mDypJe7",
        "outputId": "2f8cb6cb-a438-4744-fb8f-242844784387"
      },
      "source": [
        "print(Y.mean(),Y_test.mean(),Y_train.mean())"
      ],
      "execution_count": 22,
      "outputs": [
        {
          "output_type": "stream",
          "text": [
            "0.6274165202108963 0.631578947368421 0.626953125\n"
          ],
          "name": "stdout"
        }
      ]
    },
    {
      "cell_type": "code",
      "metadata": {
        "colab": {
          "base_uri": "https://localhost:8080/"
        },
        "id": "tvvKbDyepOUg",
        "outputId": "5eccdde6-149e-4b97-a9d1-48f46147f288"
      },
      "source": [
        "#We can verify the data by taking the mean of individual features as well\r\n",
        "print(X.mean(),X_train.mean(),X_test.mean())"
      ],
      "execution_count": 23,
      "outputs": [
        {
          "output_type": "stream",
          "text": [
            "mean radius                 14.127292\n",
            "mean texture                19.289649\n",
            "mean perimeter              91.969033\n",
            "mean area                  654.889104\n",
            "mean smoothness              0.096360\n",
            "mean compactness             0.104341\n",
            "mean concavity               0.088799\n",
            "mean concave points          0.048919\n",
            "mean symmetry                0.181162\n",
            "mean fractal dimension       0.062798\n",
            "radius error                 0.405172\n",
            "texture error                1.216853\n",
            "perimeter error              2.866059\n",
            "area error                  40.337079\n",
            "smoothness error             0.007041\n",
            "compactness error            0.025478\n",
            "concavity error              0.031894\n",
            "concave points error         0.011796\n",
            "symmetry error               0.020542\n",
            "fractal dimension error      0.003795\n",
            "worst radius                16.269190\n",
            "worst texture               25.677223\n",
            "worst perimeter            107.261213\n",
            "worst area                 880.583128\n",
            "worst smoothness             0.132369\n",
            "worst compactness            0.254265\n",
            "worst concavity              0.272188\n",
            "worst concave points         0.114606\n",
            "worst symmetry               0.290076\n",
            "worst fractal dimension      0.083946\n",
            "dtype: float64 mean radius                 14.102170\n",
            "mean texture                19.256074\n",
            "mean perimeter              91.809824\n",
            "mean area                  651.067578\n",
            "mean smoothness              0.096334\n",
            "mean compactness             0.104518\n",
            "mean concavity               0.087896\n",
            "mean concave points          0.048673\n",
            "mean symmetry                0.181088\n",
            "mean fractal dimension       0.062793\n",
            "radius error                 0.401788\n",
            "texture error                1.206319\n",
            "perimeter error              2.851122\n",
            "area error                  39.669117\n",
            "smoothness error             0.006991\n",
            "compactness error            0.025508\n",
            "concavity error              0.031485\n",
            "concave points error         0.011804\n",
            "symmetry error               0.020532\n",
            "fractal dimension error      0.003760\n",
            "worst radius                16.259779\n",
            "worst texture               25.637812\n",
            "worst perimeter            107.260117\n",
            "worst area                 878.472070\n",
            "worst smoothness             0.132405\n",
            "worst compactness            0.254495\n",
            "worst concavity              0.270897\n",
            "worst concave points         0.114967\n",
            "worst symmetry               0.291025\n",
            "worst fractal dimension      0.083890\n",
            "dtype: float64 mean radius                 14.352947\n",
            "mean texture                19.591228\n",
            "mean perimeter              93.399123\n",
            "mean area                  689.215789\n",
            "mean smoothness              0.096597\n",
            "mean compactness             0.102749\n",
            "mean concavity               0.096910\n",
            "mean concave points          0.051131\n",
            "mean symmetry                0.181823\n",
            "mean fractal dimension       0.062836\n",
            "radius error                 0.435567\n",
            "texture error                1.311475\n",
            "perimeter error              3.000235\n",
            "area error                  46.337018\n",
            "smoothness error             0.007487\n",
            "compactness error            0.025208\n",
            "concavity error              0.035565\n",
            "concave points error         0.011722\n",
            "symmetry error               0.020632\n",
            "fractal dimension error      0.004108\n",
            "worst radius                16.353719\n",
            "worst texture               26.031228\n",
            "worst perimeter            107.271053\n",
            "worst area                 899.545614\n",
            "worst smoothness             0.132041\n",
            "worst compactness            0.252204\n",
            "worst concavity              0.283787\n",
            "worst concave points         0.111366\n",
            "worst symmetry               0.281549\n",
            "worst fractal dimension      0.084447\n",
            "dtype: float64\n"
          ],
          "name": "stdout"
        }
      ]
    },
    {
      "cell_type": "code",
      "metadata": {
        "id": "RhOQ9GSnqWCx"
      },
      "source": [
        "# When we re-run the split , there is a possibility that the value will change and will affect the modal. So to avoid this, We should keep the dataaset unchanged.\r\n",
        "X_train,X_test,Y_train,Y_test=train_test_split(X,Y,test_size=0.1,stratify=Y,random_state=1) # How many times we re-run the dataset will not change"
      ],
      "execution_count": 24,
      "outputs": []
    },
    {
      "cell_type": "markdown",
      "metadata": {
        "id": "Oqe_ztU-rtZq"
      },
      "source": [
        "#Binarisation\r\n",
        "We have learned that MP Neurons supports only binary data for both input and output. So we need to binarise the input data"
      ]
    },
    {
      "cell_type": "code",
      "metadata": {
        "colab": {
          "base_uri": "https://localhost:8080/",
          "height": 265
        },
        "id": "qKGT_5-frY7-",
        "outputId": "e965b3ed-9b40-429f-c76e-43bb217b072d"
      },
      "source": [
        "#Just analyze the data\r\n",
        "import matplotlib.pyplot as plt\r\n",
        "plt.plot(X_train,'*')\r\n",
        "plt.show()"
      ],
      "execution_count": 25,
      "outputs": [
        {
          "output_type": "display_data",
          "data": {
            "image/png": "[encoded data removed]",
            "text/plain": [
              "<Figure size 432x288 with 1 Axes>"
            ]
          },
          "metadata": {
            "tags": [],
            "needs_background": "light"
          }
        }
      ]
    },
    {
      "cell_type": "code",
      "metadata": {
        "colab": {
          "base_uri": "https://localhost:8080/",
          "height": 374
        },
        "id": "FN_ETn22vzbm",
        "outputId": "c8a2a53c-53e3-4f2d-d69f-db375c84298d"
      },
      "source": [
        "# Seems very difficult to read the data, Let's try with the transpose of the data\r\n",
        "plt.plot(X_train.T,'*')\r\n",
        "plt.xticks(rotation='vertical') # To avoaid overlapping of the labels\r\n",
        "plt.show()"
      ],
      "execution_count": 26,
      "outputs": [
        {
          "output_type": "display_data",
          "data": {
            "image/png": "[encoded data removed]",
            "text/plain": [
              "<Figure size 432x288 with 1 Axes>"
            ]
          },
          "metadata": {
            "tags": [],
            "needs_background": "light"
          }
        }
      ]
    },
    {
      "cell_type": "code",
      "metadata": {
        "id": "ofFMXl1SwKDu"
      },
      "source": [
        "# We can binarise data using mean, median or any other ways. But now for simplicity, for mean area, the values above 1000 is mapped to and and 0 for less than 1000\r\n",
        "X_binarised_3_train = X_train['mean area'].map(lambda x: 0 if x<1000 else 1)"
      ],
      "execution_count": 27,
      "outputs": []
    },
    {
      "cell_type": "code",
      "metadata": {
        "colab": {
          "base_uri": "https://localhost:8080/",
          "height": 284
        },
        "id": "6TQMxRmcxnyU",
        "outputId": "0f699587-9fdc-42e6-9628-3362e42ee704"
      },
      "source": [
        "plt.plot(X_binarised_3_train,'*') # This data is binarised"
      ],
      "execution_count": 28,
      "outputs": [
        {
          "output_type": "execute_result",
          "data": {
            "text/plain": [
              "[<matplotlib.lines.Line2D at 0x7fabfddb4400>]"
            ]
          },
          "metadata": {
            "tags": []
          },
          "execution_count": 28
        },
        {
          "output_type": "display_data",
          "data": {
            "image/png": "[encoded data removed]",
            "text/plain": [
              "<Figure size 432x288 with 1 Axes>"
            ]
          },
          "metadata": {
            "tags": [],
            "needs_background": "light"
          }
        }
      ]
    },
    {
      "cell_type": "code",
      "metadata": {
        "id": "NOemz-ZnyISG"
      },
      "source": [
        "# Binarising each and every features is difficult. will use pandas cut frame work to do this\r\n",
        "X_binarised_train = X_train.apply(pd.cut,bins=2,labels=[0,1])"
      ],
      "execution_count": 29,
      "outputs": []
    },
    {
      "cell_type": "code",
      "metadata": {
        "colab": {
          "base_uri": "https://localhost:8080/",
          "height": 274
        },
        "id": "B17rTKFUzDOT",
        "outputId": "2bed862e-599b-4f01-9d71-b31811a31bff"
      },
      "source": [
        "plt.plot(X_binarised_train,'*')\r\n",
        "plt.xticks(rotation='vertical') # To avoaid overlapping of the labels\r\n",
        "plt.show()"
      ],
      "execution_count": 30,
      "outputs": [
        {
          "output_type": "display_data",
          "data": {
            "image/png": "[encoded data removed]",
            "text/plain": [
              "<Figure size 432x288 with 1 Axes>"
            ]
          },
          "metadata": {
            "tags": [],
            "needs_background": "light"
          }
        }
      ]
    },
    {
      "cell_type": "code",
      "metadata": {
        "id": "V3o2_N3Oz_iz"
      },
      "source": [
        "# Do the same for test data \r\n",
        "X_binarised_test = X_test.apply(pd.cut,bins=2,labels=[0,1])"
      ],
      "execution_count": 31,
      "outputs": []
    },
    {
      "cell_type": "code",
      "metadata": {
        "colab": {
          "base_uri": "https://localhost:8080/"
        },
        "id": "sPcngdy90gFC",
        "outputId": "5d19f02e-5a11-470b-dad6-ee4d2956107c"
      },
      "source": [
        "type(X_binarised_test)"
      ],
      "execution_count": 32,
      "outputs": [
        {
          "output_type": "execute_result",
          "data": {
            "text/plain": [
              "pandas.core.frame.DataFrame"
            ]
          },
          "metadata": {
            "tags": []
          },
          "execution_count": 32
        }
      ]
    },
    {
      "cell_type": "code",
      "metadata": {
        "id": "EIP96mXq034M"
      },
      "source": [
        "# Now we hav eto convert the pandas data frame to numpy arrays \r\n",
        "X_binarised_test = X_binarised_test.values\r\n",
        "X_binarised_train = X_binarised_train.values"
      ],
      "execution_count": 33,
      "outputs": []
    },
    {
      "cell_type": "code",
      "metadata": {
        "colab": {
          "base_uri": "https://localhost:8080/"
        },
        "id": "OgEkiESq1X5C",
        "outputId": "da783c7c-5520-462c-c0fa-68f217a84f5f"
      },
      "source": [
        "type(X_binarised_test)"
      ],
      "execution_count": 34,
      "outputs": [
        {
          "output_type": "execute_result",
          "data": {
            "text/plain": [
              "numpy.ndarray"
            ]
          },
          "metadata": {
            "tags": []
          },
          "execution_count": 34
        }
      ]
    },
    {
      "cell_type": "markdown",
      "metadata": {
        "id": "iv3s4VHH2J1g"
      },
      "source": [
        "#MP Neuron Model\r\n",
        "Model of the MP Neuron is a single parameter , ie, b\r\n",
        "we sum up all the binarised values and it exceeds b then it's Malignant else benign ( x1+ x2..+b >=0)"
      ]
    },
    {
      "cell_type": "code",
      "metadata": {
        "id": "zj-4sTDQ67E4"
      },
      "source": [
        "from random import randint"
      ],
      "execution_count": 35,
      "outputs": []
    },
    {
      "cell_type": "code",
      "metadata": {
        "colab": {
          "base_uri": "https://localhost:8080/"
        },
        "id": "j2R7LEEx1Syi",
        "outputId": "9c591531-7285-422c-916b-102001473724"
      },
      "source": [
        "# Our goal is to find the value of b such that we will get maximum accuracy. \r\n",
        "# Just do a simpe case to understand this take b=3\r\n",
        "\r\n",
        "b=3\r\n",
        "i =randint(0,X_binarised_train.shape[0])\r\n",
        "print ('for row',i)\r\n",
        "if(np.sum(X_binarised_train[i,:])>b):\r\n",
        "  print('MP Neuron inference is Malignat')\r\n",
        "else :\r\n",
        "  print('MP Neuron inference is Benign')\r\n",
        "\r\n",
        "if(Y_train[i]==1):\r\n",
        "  print('MP Neuron inference is Malignat')\r\n",
        "else :\r\n",
        "  print('MP Neuron inference is Benign')"
      ],
      "execution_count": 36,
      "outputs": [
        {
          "output_type": "stream",
          "text": [
            "for row 378\n",
            "MP Neuron inference is Benign\n",
            "MP Neuron inference is Malignat\n"
          ],
          "name": "stdout"
        }
      ]
    },
    {
      "cell_type": "code",
      "metadata": {
        "colab": {
          "base_uri": "https://localhost:8080/"
        },
        "id": "ZC21QBsf6KOg",
        "outputId": "646d6a3c-50c0-4661-9f34-debc4621f5b0"
      },
      "source": [
        "for b in range(X_binarised_train.shape[1]+1):\r\n",
        "  Y_pred_train=[]\r\n",
        "  accurate_rows=0\r\n",
        "  for x,y in zip(X_binarised_train,Y_train):\r\n",
        "    Y_pred=(np.sum(x)>=b)\r\n",
        "    Y_pred_train.append(Y_pred)\r\n",
        "    accurate_rows += (y==Y_pred)\r\n",
        "  print(b,accurate_rows/X_binarised_train.shape[0])"
      ],
      "execution_count": 37,
      "outputs": [
        {
          "output_type": "stream",
          "text": [
            "0 0.626953125\n",
            "1 0.240234375\n",
            "2 0.185546875\n",
            "3 0.150390625\n",
            "4 0.154296875\n",
            "5 0.181640625\n",
            "6 0.21484375\n",
            "7 0.244140625\n",
            "8 0.275390625\n",
            "9 0.298828125\n",
            "10 0.3125\n",
            "11 0.328125\n",
            "12 0.3359375\n",
            "13 0.34375\n",
            "14 0.3515625\n",
            "15 0.357421875\n",
            "16 0.3671875\n",
            "17 0.369140625\n",
            "18 0.373046875\n",
            "19 0.373046875\n",
            "20 0.373046875\n",
            "21 0.373046875\n",
            "22 0.373046875\n",
            "23 0.373046875\n",
            "24 0.373046875\n",
            "25 0.373046875\n",
            "26 0.373046875\n",
            "27 0.373046875\n",
            "28 0.373046875\n",
            "29 0.373046875\n",
            "30 0.373046875\n"
          ],
          "name": "stdout"
        }
      ]
    },
    {
      "cell_type": "code",
      "metadata": {
        "colab": {
          "base_uri": "https://localhost:8080/",
          "height": 198
        },
        "id": "gvMQoNQbj7vQ",
        "outputId": "fba4fc43-a016-437f-a572-619eba134d19"
      },
      "source": [
        "# This seems that , we are getting 62% accuracy while b=0. when you group the data, it is evident that all the features are higher for class 0 and less for class 1.\r\n",
        "#Means, The binarization label we used is wrong that's why we are not getting proper accuracy.\r\n",
        "data.groupby('class').mean()"
      ],
      "execution_count": 38,
      "outputs": [
        {
          "output_type": "execute_result",
          "data": {
            "text/html": [
              "<div>\n",
              "<style scoped>\n",
              "    .dataframe tbody tr th:only-of-type {\n",
              "        vertical-align: middle;\n",
              "    }\n",
              "\n",
              "    .dataframe tbody tr th {\n",
              "        vertical-align: top;\n",
              "    }\n",
              "\n",
              "    .dataframe thead th {\n",
              "        text-align: right;\n",
              "    }\n",
              "</style>\n",
              "<table border=\"1\" class=\"dataframe\">\n",
              "  <thead>\n",
              "    <tr style=\"text-align: right;\">\n",
              "      <th></th>\n",
              "      <th>mean radius</th>\n",
              "      <th>mean texture</th>\n",
              "      <th>mean perimeter</th>\n",
              "      <th>mean area</th>\n",
              "      <th>mean smoothness</th>\n",
              "      <th>mean compactness</th>\n",
              "      <th>mean concavity</th>\n",
              "      <th>mean concave points</th>\n",
              "      <th>mean symmetry</th>\n",
              "      <th>mean fractal dimension</th>\n",
              "      <th>radius error</th>\n",
              "      <th>texture error</th>\n",
              "      <th>perimeter error</th>\n",
              "      <th>area error</th>\n",
              "      <th>smoothness error</th>\n",
              "      <th>compactness error</th>\n",
              "      <th>concavity error</th>\n",
              "      <th>concave points error</th>\n",
              "      <th>symmetry error</th>\n",
              "      <th>fractal dimension error</th>\n",
              "      <th>worst radius</th>\n",
              "      <th>worst texture</th>\n",
              "      <th>worst perimeter</th>\n",
              "      <th>worst area</th>\n",
              "      <th>worst smoothness</th>\n",
              "      <th>worst compactness</th>\n",
              "      <th>worst concavity</th>\n",
              "      <th>worst concave points</th>\n",
              "      <th>worst symmetry</th>\n",
              "      <th>worst fractal dimension</th>\n",
              "    </tr>\n",
              "    <tr>\n",
              "      <th>class</th>\n",
              "      <th></th>\n",
              "      <th></th>\n",
              "      <th></th>\n",
              "      <th></th>\n",
              "      <th></th>\n",
              "      <th></th>\n",
              "      <th></th>\n",
              "      <th></th>\n",
              "      <th></th>\n",
              "      <th></th>\n",
              "      <th></th>\n",
              "      <th></th>\n",
              "      <th></th>\n",
              "      <th></th>\n",
              "      <th></th>\n",
              "      <th></th>\n",
              "      <th></th>\n",
              "      <th></th>\n",
              "      <th></th>\n",
              "      <th></th>\n",
              "      <th></th>\n",
              "      <th></th>\n",
              "      <th></th>\n",
              "      <th></th>\n",
              "      <th></th>\n",
              "      <th></th>\n",
              "      <th></th>\n",
              "      <th></th>\n",
              "      <th></th>\n",
              "      <th></th>\n",
              "    </tr>\n",
              "  </thead>\n",
              "  <tbody>\n",
              "    <tr>\n",
              "      <th>0</th>\n",
              "      <td>17.462830</td>\n",
              "      <td>21.604906</td>\n",
              "      <td>115.365377</td>\n",
              "      <td>978.376415</td>\n",
              "      <td>0.102898</td>\n",
              "      <td>0.145188</td>\n",
              "      <td>0.160775</td>\n",
              "      <td>0.087990</td>\n",
              "      <td>0.192909</td>\n",
              "      <td>0.062680</td>\n",
              "      <td>0.609083</td>\n",
              "      <td>1.210915</td>\n",
              "      <td>4.323929</td>\n",
              "      <td>72.672406</td>\n",
              "      <td>0.006780</td>\n",
              "      <td>0.032281</td>\n",
              "      <td>0.041824</td>\n",
              "      <td>0.015060</td>\n",
              "      <td>0.020472</td>\n",
              "      <td>0.004062</td>\n",
              "      <td>21.134811</td>\n",
              "      <td>29.318208</td>\n",
              "      <td>141.370330</td>\n",
              "      <td>1422.286321</td>\n",
              "      <td>0.144845</td>\n",
              "      <td>0.374824</td>\n",
              "      <td>0.450606</td>\n",
              "      <td>0.182237</td>\n",
              "      <td>0.323468</td>\n",
              "      <td>0.091530</td>\n",
              "    </tr>\n",
              "    <tr>\n",
              "      <th>1</th>\n",
              "      <td>12.146524</td>\n",
              "      <td>17.914762</td>\n",
              "      <td>78.075406</td>\n",
              "      <td>462.790196</td>\n",
              "      <td>0.092478</td>\n",
              "      <td>0.080085</td>\n",
              "      <td>0.046058</td>\n",
              "      <td>0.025717</td>\n",
              "      <td>0.174186</td>\n",
              "      <td>0.062867</td>\n",
              "      <td>0.284082</td>\n",
              "      <td>1.220380</td>\n",
              "      <td>2.000321</td>\n",
              "      <td>21.135148</td>\n",
              "      <td>0.007196</td>\n",
              "      <td>0.021438</td>\n",
              "      <td>0.025997</td>\n",
              "      <td>0.009858</td>\n",
              "      <td>0.020584</td>\n",
              "      <td>0.003636</td>\n",
              "      <td>13.379801</td>\n",
              "      <td>23.515070</td>\n",
              "      <td>87.005938</td>\n",
              "      <td>558.899440</td>\n",
              "      <td>0.124959</td>\n",
              "      <td>0.182673</td>\n",
              "      <td>0.166238</td>\n",
              "      <td>0.074444</td>\n",
              "      <td>0.270246</td>\n",
              "      <td>0.079442</td>\n",
              "    </tr>\n",
              "  </tbody>\n",
              "</table>\n",
              "</div>"
            ],
            "text/plain": [
              "       mean radius  mean texture  ...  worst symmetry  worst fractal dimension\n",
              "class                             ...                                         \n",
              "0        17.462830     21.604906  ...        0.323468                 0.091530\n",
              "1        12.146524     17.914762  ...        0.270246                 0.079442\n",
              "\n",
              "[2 rows x 30 columns]"
            ]
          },
          "metadata": {
            "tags": []
          },
          "execution_count": 38
        }
      ]
    },
    {
      "cell_type": "code",
      "metadata": {
        "id": "Ibg_0ac2nDse"
      },
      "source": [
        "X_binarised_train = X_train.apply(pd.cut,bins=2,labels=[1,0])\r\n",
        "X_binarised_test = X_test.apply(pd.cut,bins=2,labels=[1,0])\r\n",
        "X_binarised_test = X_binarised_test.values\r\n",
        "X_binarised_train = X_binarised_train.values"
      ],
      "execution_count": 39,
      "outputs": []
    },
    {
      "cell_type": "code",
      "metadata": {
        "colab": {
          "base_uri": "https://localhost:8080/"
        },
        "id": "9pjxJVNcoS-q",
        "outputId": "e0b428d2-ad38-4f21-df02-7225329c4465"
      },
      "source": [
        "for b in range(X_binarised_train.shape[1]+1):\r\n",
        "  Y_pred_train=[]\r\n",
        "  accurate_rows=0\r\n",
        "  for x,y in zip(X_binarised_train,Y_train):\r\n",
        "    Y_pred=(np.sum(x)>=b)\r\n",
        "    Y_pred_train.append(Y_pred)\r\n",
        "    accurate_rows += (y==Y_pred)\r\n",
        "  print(b,accurate_rows/X_binarised_train.shape[0])"
      ],
      "execution_count": 40,
      "outputs": [
        {
          "output_type": "stream",
          "text": [
            "0 0.626953125\n",
            "1 0.626953125\n",
            "2 0.626953125\n",
            "3 0.626953125\n",
            "4 0.626953125\n",
            "5 0.626953125\n",
            "6 0.626953125\n",
            "7 0.626953125\n",
            "8 0.626953125\n",
            "9 0.626953125\n",
            "10 0.626953125\n",
            "11 0.626953125\n",
            "12 0.626953125\n",
            "13 0.626953125\n",
            "14 0.630859375\n",
            "15 0.6328125\n",
            "16 0.642578125\n",
            "17 0.6484375\n",
            "18 0.65625\n",
            "19 0.6640625\n",
            "20 0.671875\n",
            "21 0.6875\n",
            "22 0.701171875\n",
            "23 0.724609375\n",
            "24 0.755859375\n",
            "25 0.78515625\n",
            "26 0.818359375\n",
            "27 0.845703125\n",
            "28 0.849609375\n",
            "29 0.814453125\n",
            "30 0.759765625\n"
          ],
          "name": "stdout"
        }
      ]
    },
    {
      "cell_type": "code",
      "metadata": {
        "id": "eMjMhBQ8oZ6c"
      },
      "source": [
        "# for 28, we get much higher accuracy\r\n",
        "#Now we are validating with test data for b=28\r\n",
        "from sklearn.metrics import accuracy_score"
      ],
      "execution_count": 41,
      "outputs": []
    },
    {
      "cell_type": "code",
      "metadata": {
        "colab": {
          "base_uri": "https://localhost:8080/"
        },
        "id": "jzQzzf_8KUSh",
        "outputId": "ce23527b-74b6-4003-f025-2c915370359f"
      },
      "source": [
        "b =28\r\n",
        "Y_pred_test=[]\r\n",
        "for x in X_binarised_test :\r\n",
        "    y_pred = (np.sum(x) >= b)\r\n",
        "    Y_pred_test.append(y_pred)\r\n",
        "accuracy = accuracy_score(Y_pred_test, Y_test) \r\n",
        "print (b, accuracy)"
      ],
      "execution_count": 42,
      "outputs": [
        {
          "output_type": "stream",
          "text": [
            "28 0.7894736842105263\n"
          ],
          "name": "stdout"
        }
      ]
    },
    {
      "cell_type": "markdown",
      "metadata": {
        "id": "-PHLjA8QRGye"
      },
      "source": [
        "#MP Neuron Class"
      ]
    },
    {
      "cell_type": "code",
      "metadata": {
        "id": "Cymv9cAtWKTw"
      },
      "source": [
        ""
      ],
      "execution_count": 42,
      "outputs": []
    },
    {
      "cell_type": "code",
      "metadata": {
        "id": "3pTh2JLTKWvO"
      },
      "source": [
        "class MPNeuron:\r\n",
        "  def __init__(self):\r\n",
        "    self.b = None\r\n",
        "  def model(self,x):\r\n",
        "    return(sum(x) >=self.b)\r\n",
        "  def predict(self,X):\r\n",
        "    Y =[]\r\n",
        "    for x in X:\r\n",
        "      result = self.model(x)\r\n",
        "      Y.append(result)\r\n",
        "    return (np.array(Y))\r\n",
        "  def fit(self,X,Y):\r\n",
        "    accuracy ={}\r\n",
        "    for b in range(X.shape[1]+1):\r\n",
        "      self.b =b\r\n",
        "      Y_pred =self.predict(X)\r\n",
        "      accuracy[b] = accuracy_score(Y_pred,Y)\r\n",
        "    best_b =max(accuracy,key=accuracy.get)\r\n",
        "    self.b = best_b\r\n",
        "\r\n",
        "    print('Optimal value of b is :',best_b)\r\n",
        "    print('Highest Accuracy is :',accuracy[best_b])"
      ],
      "execution_count": 43,
      "outputs": []
    },
    {
      "cell_type": "code",
      "metadata": {
        "colab": {
          "base_uri": "https://localhost:8080/"
        },
        "id": "GoOHwC3HRehG",
        "outputId": "1c60a520-45d1-43a1-c2c9-f8e401612235"
      },
      "source": [
        "mpneuron = MPNeuron()\r\n",
        "mpneuron.fit(X_binarised_train,Y_train)\r\n"
      ],
      "execution_count": 44,
      "outputs": [
        {
          "output_type": "stream",
          "text": [
            "Optimal value of b is : 28\n",
            "Highest Accuracy is : 0.849609375\n"
          ],
          "name": "stdout"
        }
      ]
    },
    {
      "cell_type": "code",
      "metadata": {
        "id": "ptJnombbU8Q0"
      },
      "source": [
        "#Verify the same for test data\r\n",
        "Y_test_pred = mpneuron.predict(X_binarised_test)\r\n",
        "accuracy_test=accuracy_score(Y_test_pred,Y_test)"
      ],
      "execution_count": 45,
      "outputs": []
    },
    {
      "cell_type": "code",
      "metadata": {
        "colab": {
          "base_uri": "https://localhost:8080/"
        },
        "id": "ruEpYuhfpvRm",
        "outputId": "24acbf65-3352-4e1a-e3ba-c839a09cb514"
      },
      "source": [
        "print(accuracy_test)"
      ],
      "execution_count": 46,
      "outputs": [
        {
          "output_type": "stream",
          "text": [
            "0.7894736842105263\n"
          ],
          "name": "stdout"
        }
      ]
    },
    {
      "cell_type": "markdown",
      "metadata": {
        "id": "tzvmgjjGqTlG"
      },
      "source": [
        "#Perceptron\r\n",
        "$y=1,\\mbox{if}\\sum_i w_i x_i >=b$\r\n",
        "\r\n",
        "$y=0,\\mbox{otherwise}$"
      ]
    },
    {
      "cell_type": "code",
      "metadata": {
        "id": "WXjvuSihp1XS"
      },
      "source": [
        "class Perceptron:\r\n",
        "  def __init__(self):\r\n",
        "    self.w = None\r\n",
        "    self.b =None\r\n",
        "    \r\n",
        "  def model(self,x) :\r\n",
        "    return 1 if (np.dot(self.w,x)>= self.b) else 0\r\n",
        "\r\n",
        "  def predict(self,X):\r\n",
        "    Y=[]\r\n",
        "    for x in X:\r\n",
        "      result = self.model(x)\r\n",
        "      Y.append(result)\r\n",
        "    return np.array(Y)\r\n",
        "\r\n",
        "\r\n",
        "  \"\"\"def fit(self,X,Y):\r\n",
        "    self.w =np.ones(X.shape[1])\r\n",
        "    self.b =0\r\n",
        "    for x,y in zip(X,Y):\r\n",
        "      y_pred = self.model(x)\r\n",
        "      if y==1 and y_pred ==0:\r\n",
        "        self.w = self.w+x\r\n",
        "        self.b = self.b +1\r\n",
        "      elif y==0 and y_pred ==1:\r\n",
        "        self.w = self.w -x\r\n",
        "        self.b = self.b -1\r\n",
        "\"\"\"\r\n",
        "#Introducing the second hyper parameter\r\n",
        "  def fit(self,X,Y,epochs =1,lr=1):\r\n",
        "    self.w =np.ones(X.shape[1])\r\n",
        "    self.b =0\r\n",
        "    accuracy = {}\r\n",
        "    max_accuracy =0\r\n",
        "    wt_matrix =[]\r\n",
        "    for i in range(epochs):\r\n",
        "      for x,y in zip(X,Y):\r\n",
        "        y_pred = self.model(x)\r\n",
        "        if y==1 and y_pred ==0:\r\n",
        "          self.w = self.w+x*lr\r\n",
        "          self.b = self.b +1*lr\r\n",
        "        elif y==0 and y_pred ==1:\r\n",
        "          self.w = self.w -x*lr\r\n",
        "          self.b = self.b -1*lr\r\n",
        "        wt_matrix.append(self.w)\r\n",
        "      accuracy[i] = accuracy_score(self.predict(X),Y)\r\n",
        "      if (accuracy[i] > max_accuracy) :\r\n",
        "        max_accuracy = accuracy[i]\r\n",
        "        chkptw =self.w\r\n",
        "        chkptb = self.b\r\n",
        "    self.w = chkptw\r\n",
        "    self.b = chkptb\r\n",
        "    print(max_accuracy)\r\n",
        "    plt.plot(list(accuracy.values()))\r\n",
        "    plt.ylim([0,1])\r\n",
        "    plt.show()\r\n",
        "    return np.array(wt_matrix)\r\n",
        "\r\n",
        "  \"\"\"  def fit(self,X,Y,epochs =1):\r\n",
        "    self.w =np.ones(X.shape[1])\r\n",
        "    self.b =0\r\n",
        "    accuracy = {}\r\n",
        "    max_accuracy =0\r\n",
        "    for i in range(epochs):\r\n",
        "      for x,y in zip(X,Y):\r\n",
        "        y_pred = self.model(x)\r\n",
        "        if y==1 and y_pred ==0:\r\n",
        "          self.w = self.w+x\r\n",
        "          self.b = self.b +1\r\n",
        "        elif y==0 and y_pred ==1:\r\n",
        "          self.w = self.w -x\r\n",
        "          self.b = self.b -1\r\n",
        "      accuracy[i] = accuracy_score(self.predict(X),Y)\r\n",
        "      if (accuracy[i] > max_accuracy) :\r\n",
        "        max_accuracy = accuracy[i]\r\n",
        "        chkptw =self.w\r\n",
        "        chkptb = self.b\r\n",
        "    self.w = chkptw\r\n",
        "    self.b = chkptb\r\n",
        "    print(max_accuracy)\r\n",
        "    plt.plot(list(accuracy.values()))\r\n",
        "    plt.show()\r\n",
        "\"\"\"\r\n"
      ],
      "execution_count": 51,
      "outputs": []
    },
    {
      "cell_type": "code",
      "metadata": {
        "id": "MezTS58YvWnn"
      },
      "source": [
        "perceptron = Perceptron()"
      ],
      "execution_count": 52,
      "outputs": []
    },
    {
      "cell_type": "code",
      "metadata": {
        "id": "pqanfrBvxxCU"
      },
      "source": [
        "type(X_train)\r\n",
        "X_train = X_train.values\r\n"
      ],
      "execution_count": 49,
      "outputs": []
    },
    {
      "cell_type": "code",
      "metadata": {
        "colab": {
          "base_uri": "https://localhost:8080/",
          "height": 284
        },
        "id": "A3F9ejmQvtLV",
        "outputId": "ed0bbbd6-db28-48d2-bb31-8a584b30ba25"
      },
      "source": [
        "perceptron.fit(X_train,Y_train)"
      ],
      "execution_count": 48,
      "outputs": [
        {
          "output_type": "stream",
          "text": [
            "0.373046875\n"
          ],
          "name": "stdout"
        },
        {
          "output_type": "display_data",
          "data": {
            "image/png": "[encoded data removed]",
            "text/plain": [
              "<Figure size 432x288 with 1 Axes>"
            ]
          },
          "metadata": {
            "tags": [],
            "needs_background": "light"
          }
        }
      ]
    },
    {
      "cell_type": "code",
      "metadata": {
        "colab": {
          "base_uri": "https://localhost:8080/",
          "height": 268
        },
        "id": "kKn8NreOvw6D",
        "outputId": "01f50bed-7a47-444d-8bd0-ca517589cfc8"
      },
      "source": [
        "plt.plot(perceptron.w)\r\n",
        "plt.show()"
      ],
      "execution_count": 49,
      "outputs": [
        {
          "output_type": "display_data",
          "data": {
            "image/png": "[encoded data removed]",
            "text/plain": [
              "<Figure size 432x288 with 1 Axes>"
            ]
          },
          "metadata": {
            "tags": [],
            "needs_background": "light"
          }
        }
      ]
    },
    {
      "cell_type": "code",
      "metadata": {
        "colab": {
          "base_uri": "https://localhost:8080/"
        },
        "id": "mDkxc7rFzJbG",
        "outputId": "1a2b9d12-79c5-457b-9e98-768d94dfe12a"
      },
      "source": [
        "#Lets predict the accuracy and see\r\n",
        "Y_pred_train =perceptron.predict(X_train)\r\n",
        "print(accuracy_score(Y_pred_train,Y_train))"
      ],
      "execution_count": 50,
      "outputs": [
        {
          "output_type": "stream",
          "text": [
            "0.373046875\n"
          ],
          "name": "stdout"
        }
      ]
    },
    {
      "cell_type": "code",
      "metadata": {
        "id": "YJrnqnre0IEc"
      },
      "source": [
        "# The accuracy is almost same for both train and test data. But its very low. How to rectify the problem\r\n",
        "\r\n",
        "#Here we introduce epochs, Insted of changing the values of w and b every time , we itereate through multiple times to calculate the value. \r\n",
        "# Here I am commenting the  fit method and introduce the same method with epoch."
      ],
      "execution_count": 51,
      "outputs": []
    },
    {
      "cell_type": "code",
      "metadata": {
        "colab": {
          "base_uri": "https://localhost:8080/",
          "height": 284
        },
        "id": "FLkFReitGmWN",
        "outputId": "e3c82087-1912-43d3-ce50-f5c502ca0b63"
      },
      "source": [
        "perceptron.fit(X_train,Y_train,50)\r\n",
        "#No of epochs also decides model. so this is called hyper parameter.\r\n"
      ],
      "execution_count": 52,
      "outputs": [
        {
          "output_type": "stream",
          "text": [
            "0.921875\n"
          ],
          "name": "stdout"
        },
        {
          "output_type": "display_data",
          "data": {
            "image/png": "[encoded data removed]",
            "text/plain": [
              "<Figure size 432x288 with 1 Axes>"
            ]
          },
          "metadata": {
            "tags": [],
            "needs_background": "light"
          }
        }
      ]
    },
    {
      "cell_type": "code",
      "metadata": {
        "colab": {
          "base_uri": "https://localhost:8080/"
        },
        "id": "7Az4bqk4GoUc",
        "outputId": "8b1d04cc-da95-4f50-e503-c61cbc82b793"
      },
      "source": [
        "#Lets predict the accuracy and see. \r\n",
        "This is check pointing. Keep tract of best possible value of the model.\r\n",
        "Y_pred_train =perceptron.predict(X_train)\r\n",
        "print(accuracy_score(Y_pred_train,Y_train))"
      ],
      "execution_count": 54,
      "outputs": [
        {
          "output_type": "stream",
          "text": [
            "0.921875\n"
          ],
          "name": "stdout"
        }
      ]
    },
    {
      "cell_type": "code",
      "metadata": {
        "id": "1a7StOnCMSuQ"
      },
      "source": [
        "#Let's tune the model with one more hyper parameter other than epoch.\r\n",
        "# In the learning algothem, we are adding self.w = self.w+x, self.b = self.b +1 , do something like small value "
      ],
      "execution_count": null,
      "outputs": []
    },
    {
      "cell_type": "code",
      "metadata": {
        "colab": {
          "base_uri": "https://localhost:8080/",
          "height": 288
        },
        "id": "TRFb4HmIPmx3",
        "outputId": "e5099a9f-6ba4-4cef-80b6-01b6398110b1"
      },
      "source": [
        "perceptron.fit(X_train,Y_train,10000,0.001)\r\n",
        "# Depends on the memory, we can check the accuracy change for hyperparameter by incresing or decresing the values of epochs and lr"
      ],
      "execution_count": 95,
      "outputs": [
        {
          "output_type": "stream",
          "text": [
            "0.947265625\n"
          ],
          "name": "stdout"
        },
        {
          "output_type": "display_data",
          "data": {
            "image/png": "[encoded data removed]",
            "text/plain": [
              "<Figure size 432x288 with 1 Axes>"
            ]
          },
          "metadata": {
            "tags": [],
            "needs_background": "light"
          }
        }
      ]
    },
    {
      "cell_type": "code",
      "metadata": {
        "id": "C3M3jpMdZp1u"
      },
      "source": [
        "X_test = X_test.values"
      ],
      "execution_count": 92,
      "outputs": []
    },
    {
      "cell_type": "code",
      "metadata": {
        "colab": {
          "base_uri": "https://localhost:8080/"
        },
        "id": "FTa6rRi0PplW",
        "outputId": "a3a2eb95-de91-4534-a131-490ce26ef079"
      },
      "source": [
        "#Lets test the accuracy for test data\r\n",
        "Y_pred_test =perceptron.predict(X_test)\r\n",
        "print(accuracy_score(Y_pred_test,Y_test))"
      ],
      "execution_count": 96,
      "outputs": [
        {
          "output_type": "stream",
          "text": [
            "0.9473684210526315\n"
          ],
          "name": "stdout"
        }
      ]
    },
    {
      "cell_type": "code",
      "metadata": {
        "colab": {
          "base_uri": "https://localhost:8080/",
          "height": 265
        },
        "id": "UNWF_ogtZZg7",
        "outputId": "4bfe6175-10e2-4a57-ba0a-5854c00c3ba2"
      },
      "source": [
        "plt.plot(perceptron.w)\r\n",
        "plt.show()"
      ],
      "execution_count": 97,
      "outputs": [
        {
          "output_type": "display_data",
          "data": {
            "image/png": "[encoded data removed]",
            "text/plain": [
              "<Figure size 432x288 with 1 Axes>"
            ]
          },
          "metadata": {
            "tags": [],
            "needs_background": "light"
          }
        }
      ]
    },
    {
      "cell_type": "markdown",
      "metadata": {
        "id": "yY9cIfTfZJ_R"
      },
      "source": [
        "#Embedding Matplotlib animations in Jupyter notebood"
      ]
    },
    {
      "cell_type": "code",
      "metadata": {
        "id": "CWINEWg4aR1z"
      },
      "source": [
        "%matplotlib inline\r\n",
        "#import numpy as np\r\n",
        "#import matplotlib.pyplot as plt\r\n",
        "\r\n",
        "from matplotlib import animation, rc\r\n",
        "from IPython.display import HTML"
      ],
      "execution_count": 53,
      "outputs": []
    },
    {
      "cell_type": "code",
      "metadata": {
        "colab": {
          "base_uri": "https://localhost:8080/",
          "height": 288
        },
        "id": "cn1oRcJDbInR",
        "outputId": "4962a377-8d7f-4b7d-82c2-59f842fd1ac5"
      },
      "source": [
        "#We are planning to plot the weights. Sot it's to be stored in the function. We are declaring a variable wt_matrix and storing the values\r\n",
        "wt_matrix= perceptron.fit(X_train,Y_train,100)"
      ],
      "execution_count": 63,
      "outputs": [
        {
          "output_type": "stream",
          "text": [
            "0.927734375\n"
          ],
          "name": "stdout"
        },
        {
          "output_type": "display_data",
          "data": {
            "image/png": "[encoded data removed]",
            "text/plain": [
              "<Figure size 432x288 with 1 Axes>"
            ]
          },
          "metadata": {
            "tags": [],
            "needs_background": "light"
          }
        }
      ]
    },
    {
      "cell_type": "code",
      "metadata": {
        "colab": {
          "base_uri": "https://localhost:8080/",
          "height": 265
        },
        "id": "I2b5-rlOgT0Y",
        "outputId": "8c037643-0d93-4c72-ce79-1042820473b3"
      },
      "source": [
        "#Just plot the value to see the max value of y axis, Plot the last value of the Y axis\r\n",
        "plt.plot(wt_matrix[-1,:])\r\n",
        "plt.show()"
      ],
      "execution_count": 55,
      "outputs": [
        {
          "output_type": "display_data",
          "data": {
            "image/png": "[encoded data removed]",
            "text/plain": [
              "<Figure size 432x288 with 1 Axes>"
            ]
          },
          "metadata": {
            "tags": [],
            "needs_background": "light"
          }
        }
      ]
    },
    {
      "cell_type": "code",
      "metadata": {
        "colab": {
          "base_uri": "https://localhost:8080/",
          "height": 269
        },
        "id": "n_1X2KBmaHus",
        "outputId": "53bcf4fa-e054-4251-a244-be42da2866ed"
      },
      "source": [
        "# First set up the figure, the axis, and the plot element we want to animate\r\n",
        "fig, ax = plt.subplots()\r\n",
        "\r\n",
        "ax.set_xlim(( 0, wt_matrix.shape[1]))\r\n",
        "ax.set_ylim((-10000, 25000))\r\n",
        "\r\n",
        "line, = ax.plot([], [], lw=2)"
      ],
      "execution_count": 64,
      "outputs": [
        {
          "output_type": "display_data",
          "data": {
            "image/png": "[encoded data removed]",
            "text/plain": [
              "<Figure size 432x288 with 1 Axes>"
            ]
          },
          "metadata": {
            "tags": [],
            "needs_background": "light"
          }
        }
      ]
    },
    {
      "cell_type": "code",
      "metadata": {
        "id": "PynIUvPQhDal"
      },
      "source": [
        "# animation function. This is called sequentially\r\n",
        "def animate(i):\r\n",
        "    x = list(range(wt_matrix.shape[1]))\r\n",
        "    y = wt_matrix[i,:]\r\n",
        "    line.set_data(x, y)\r\n",
        "    return (line,)\r\n"
      ],
      "execution_count": 65,
      "outputs": []
    },
    {
      "cell_type": "code",
      "metadata": {
        "id": "d9bx2q8QhOJZ"
      },
      "source": [
        "    # call the animator. blit=True means only re-draw the parts that have changed.\r\n",
        "anim = animation.FuncAnimation(fig, animate, \r\n",
        "                               frames=100, interval=20, blit=True)\r\n"
      ],
      "execution_count": 66,
      "outputs": []
    },
    {
      "cell_type": "code",
      "metadata": {
        "colab": {
          "base_uri": "https://localhost:8080/",
          "height": 309
        },
        "id": "Dqa7PdTahw2u",
        "outputId": "88794f88-f359-414c-a5be-0ac9155076d5"
      },
      "source": [
        "HTML(anim.to_html5_video())"
      ],
      "execution_count": 67,
      "outputs": [
        {
          "output_type": "execute_result",
          "data": {
            "text/html": [
              "<video width=\"432\" height=\"288\" controls autoplay loop>\n",
              "  <source type=\"video/mp4\" src=\"data:video/mp4;base64,AAAAHGZ0eXBNNFYgAAACAGlzb21pc28yYXZjMQAAAAhmcmVlAAAnNm1kYXQAAAKuBgX//6rcRem9\n",
              "5tlIt5Ys2CDZI+7veDI2NCAtIGNvcmUgMTUyIHIyODU0IGU5YTU5MDMgLSBILjI2NC9NUEVHLTQg\n",
              "QVZDIGNvZGVjIC0gQ29weWxlZnQgMjAwMy0yMDE3IC0gaHR0cDovL3d3dy52aWRlb2xhbi5vcmcv\n",
              "eDI2NC5odG1sIC0gb3B0aW9uczogY2FiYWM9MSByZWY9MyBkZWJsb2NrPTE6MDowIGFuYWx5c2U9\n",
              "MHgzOjB4MTEzIG1lPWhleCBzdWJtZT03IHBzeT0xIHBzeV9yZD0xLjAwOjAuMDAgbWl4ZWRfcmVm\n",
              "PTEgbWVfcmFuZ2U9MTYgY2hyb21hX21lPTEgdHJlbGxpcz0xIDh4OGRjdD0xIGNxbT0wIGRlYWR6\n",
              "b25lPTIxLDExIGZhc3RfcHNraXA9MSBjaHJvbWFfcXBfb2Zmc2V0PS0yIHRocmVhZHM9MyBsb29r\n",
              "YWhlYWRfdGhyZWFkcz0xIHNsaWNlZF90aHJlYWRzPTAgbnI9MCBkZWNpbWF0ZT0xIGludGVybGFj\n",
              "ZWQ9MCBibHVyYXlfY29tcGF0PTAgY29uc3RyYWluZWRfaW50cmE9MCBiZnJhbWVzPTMgYl9weXJh\n",
              "bWlkPTIgYl9hZGFwdD0xIGJfYmlhcz0wIGRpcmVjdD0xIHdlaWdodGI9MSBvcGVuX2dvcD0wIHdl\n",
              "aWdodHA9MiBrZXlpbnQ9MjUwIGtleWludF9taW49MjUgc2NlbmVjdXQ9NDAgaW50cmFfcmVmcmVz\n",
              "aD0wIHJjX2xvb2thaGVhZD00MCByYz1jcmYgbWJ0cmVlPTEgY3JmPTIzLjAgcWNvbXA9MC42MCBx\n",
              "cG1pbj0wIHFwbWF4PTY5IHFwc3RlcD00IGlwX3JhdGlvPTEuNDAgYXE9MToxLjAwAIAAAAr4ZYiE\n",
              "ADP//vbsvgU1/Z/QlxEsxdpKcD4qpICAdzTAAAADAAB5FfwcMHqAWFcOq6Bh6oBN7h5oyzeKDzdV\n",
              "Vkn6tKw8DFHpo8E6wBdJ9TlVyPfTJ64bNDCiMnbwEIw67x1o29JqH6vzU+3slMfOPzlvBBadQ8d8\n",
              "a3CtQaSeOC8aYAAAAwK/9fGWs5jhVqo3LYZY78uv1po1cLNXtteewDfaw8G+rhE4ey/5yLiPlEs/\n",
              "A0JEhXUC5xw532qvoIEJpP63oL8eDoyI5hAPLJJsyAP8roTjBc91oSUrcsb0Pb1j5F6F8sb9zg66\n",
              "k1fP+P0g9xIdJiJ907LuW4hJsTdmMjgV8Tw7+/e6Bxs6mdLqclD55/1b56zMJyLT5jBfcn6IHUNL\n",
              "63fFymEYbkwEZ2P0GQbdHX65/Y1I8tz8ayATArDQ7vv/ZN/ia3K3JjaODEISplZ/UWJzaF+R8CjW\n",
              "YWGzNoylDduJc5KCi4XJtbjqk2VLQ7iToZvBapwb1rfOtdnZA/AlURtSn4eRfyszmNf1EfyBliG/\n",
              "X7mAxVlqaG8UrDw/xrwpwZX2YzNrd7PlRvOedSXuYnUYH8uO6vjeErZkHfu5m6VHGImDsXAARghH\n",
              "VEJ+VWBYOPysaMI3bN4AgVNZRtwxbS5yKqL7LUgepU4C7izdiLqaI2Va2jsz/1t/gqqBj8+Po8Pl\n",
              "c3RIcVgzuDineEmyvWfSjDkOjaj1m2F57LyM+xxig77xMDAQSQ11kovus0COB2GDz6xcQBvSaQhi\n",
              "DztZVpoz8uTG2DwTiNVNdjlBfkK7iGx8WHxf0RLo2EzQYsA7dz74iDTqZRPj+QAAxo534JPRShQz\n",
              "d3V/Q1oHnSPou2sjadOubSw+t4B1a5q2UflkytppMcWNPr5j+Ol/x+cE1Hz8uLeb97FVt/7G40+l\n",
              "M/oYFVmuHHrmmRGdPVRq9qm7ACnuT+0GJklaGSMySdvvdhNPSSWYrvbRcQRELavLlAwbfVKyaK4Y\n",
              "fCykXMLg8lEytUil9uB60rU2hshwN2uFncwgX8kOaCqjK5gfR7LFp8lNShobTZK05DH9XsGetZx3\n",
              "+4woQhZsaURNbuZETZbgaV5ho1LCKCU23CCNKxBygcQftu0mFJ9y+n5rD2dD2tZqZqPQD3nvpVBZ\n",
              "fM8fbmq1sI/PsR0G+AIC8dF/1n4OyZhWGZw22/b/YTiPYRnWDhxvpezDnGg5hlKdHeCWf0uAgeRy\n",
              "r4ZPgoYoQa9aO37O8ZBGe155a8Ce4vrHI7gAHxcf+mTmUyEiq0Le0WJ0Xog687FN7N7vmpKJtoWG\n",
              "kSWgwwc2GculschdfW4oR9ynKOlGH9hpRPTZSiNGnCa58Be+GEGnPBhb3LQkEcIQv7baH61lrMcM\n",
              "tdEsHhhgb9mI61gTmFbNO1bAQi+iomnz/1P+4HQTa0Qz4N/nmN+SgxpR7YD5mb4HZKeB9t3mIa2t\n",
              "dAIIjqN1VV+P+u6I2SdU2EIpmi1J0I2wxBC+BPZh44J+jMwptzcrTaF0lK2R2AhAEcOObjDabzhX\n",
              "7L1cLIe414LLXlCV4pSDFSHUvNcfAvoaJ+5j+4LKA6kTQp68oHJ0T6XHXalU4Eka3pyWMQphl9Kd\n",
              "Y+Ow5ay2o7fnV4vxl2M/1gaEHQ7KI/KI6xvGTI7b4yzxSashX0Y6CL8uy88pOTC6yLZfiYzNOkM0\n",
              "RPOmgOri13HLs3GUWLVgnHEJjqVYcHomJqRIccq7u5z+cC+aNR1A+E4Ncde9vbe/OWMc4TbgzgEo\n",
              "4GHE0TlG+5iU2LBH41Y0q+D+XmD4gZy7e5PvxIWw7hH2OQ5tgd3Yva47dkUfzExWlSYnywyl1Djm\n",
              "UJ55PCySlhIPEiArB4QeMjHuikOHyfThCTFVMsMunl+m0pywYf/vf/81o6t97ZaerO9+Dl96QRf+\n",
              "0iT1E4zNnU1Xr1RllXeXy9ubVX9rL6TD94MJID1xFyTGdxz3NoQUadxmVmKVfmqX1Bu6VtqCRBiE\n",
              "eRNzVd/2aN948GNyUKokQ4uxjuXGijXu9EzTRRO6Li89eKICelXlSi5xQSwZWq/X4DJmw/OCKuxr\n",
              "82eU/TR3cZXaYbNBrX/27KelqA5kjPvKNCv7eb5vmdVg9IDJ+eg7buKFmwtuqWW9qGqonpAU98MX\n",
              "f/2QYAR0H0RHDGGPoUKaUc4AAEFA5RqT/OrMC/IYzqttJ1kvOiLbxBA9A4cLigWKJICQCRR4P+oh\n",
              "opgjqrNEbIbWxup5kYJqdqvbWMEWjCGr3qAYkHKtw95Beg2UqbVnl6p6SInEB7HYeZKaS0AJ0242\n",
              "XHVzqKFF8A0QZGV6Da1HhDqg8JIOtRBlqy6HnLiiQS1uiNMxxSxxyBNEfhvTEvwvPaKOWfqPS0S/\n",
              "pEXFAZ9WKvpw6RuuaWfLhyp/yNXrrfL6wYrg5GlHvGowOiCy6jhDJ2EEuSbHBFFeGkMTf0c8MCys\n",
              "hYv1Ftw6YbEt1yQMvemhuHYPKXOAt8tOdeFPpmd1KqR5UpUjM7d0IFDtvBjArou7Tkcf4zpddLFB\n",
              "17hGYC5ICLXZ5po9onbn77bIugtvtRrtTahouPAW0z9IczWM6AYnZKguAPb9MK7QQUvx8Q7LzZMN\n",
              "ck/P49Y7gwOr9rMtP1btm8/BDwpMv6/WlQK3lDsjatjIvVdz24SH8+gQ013nRpz5kUgyE1EnGddG\n",
              "Pi8NkNGEPfWjC6cG8ygTZunmGw6iotjRvKEimBQraL07w0n4dA/B2vRK1U9jh/GRkMoEdwku3A/Q\n",
              "t7RwPCPB+vEK4zrVRE4RbQjrXtMcrhkWpTBRRmmLT/Skv1NjA4K77YLVMVBhtgLS3VKU/76VIHax\n",
              "G03j3HkjxmnaU99FA0y+TktFKqRo+cYLk6EkhTGUse7i7OzdTJTaM2Es3iWwh8klsK47GrceSN64\n",
              "uc5r0ovArr8EBFI3LzWnJbmoIYOqmFX0HF+vAvNLs+HabSIej1Sik5n7nNyiVE0hDgbCIO7NxC2E\n",
              "sYeat7T29rP7jqQ93ZxWdA7LFWUUPiA8/8ZdvOo0wRV78e93vOBUwuRghMbS605z+xg04gpuD4SQ\n",
              "n/QVEP5TgMtOrGQ1GfTQvmuwCwZX9Skj7/ruy7MPAzjQF87UsB4DdVQF5OMolM2I8Tcv9bQnzjFP\n",
              "VDuRAvuD+ZVnlBYfhtehkZPPJsT9VTzDr2FdOZiXcEF1hTE0ZGj11FG4BV2cn4jks6w1HQW5xVcx\n",
              "+wO4j2VWdwg4i1YViNOrQSql8KyFq/iPO9HR5nbsaVviWSupvwwtsN4s1yrEv8Wz0I00/PbryzqI\n",
              "wTWPiu2psFWBraqMvRGu+kIYEP4qGuq4Whwap8wNB+Jg77nr5WFeIlljwPHpxd4uTn7KX99QX7zK\n",
              "NLAINDi9H4/AviS95hNhB+Sn1144C2dhe5G8th6FPJ0f8+WsDeiKfgWjQUGY7I/O21V5Dtxo5g7m\n",
              "u0xUsUG7LYbR3OUgG6zRMGgW72XL/HBZpo6d2vaCujeYbLreoKB2A90b+XAIlFr5QduA04iTURuQ\n",
              "cDhSBcNVs/98/p0nN1/FR+At9oVMqKAhAWrx0jP5UYPGVaWRG6bVtMjDsH0fX9Ny62g7l8XsapYh\n",
              "Onou819gnRNyuadp6wkejr0b+B7qF+EUNdsktKEuTsYRwFP6RKqEK5xl/zpZF6eemDijZTKbESPj\n",
              "mroE2tlUwwcjg32bmF51iW/NsM7xppxDpdPDJ6WLsFso5LyzXIxfrApFWGeW+21Wi8uytiotSwku\n",
              "MLzAABO0QAsIAH7BAAABeEGaJGxDP/6eEH/ixMGhypqhfcSZTdfE8GaADTJbHWns/rWT3OgEw5np\n",
              "yuUoYZ+qVzyR2NqmWJwgK8xRA8Eh98V8XnnhNrDN6mkfaniaaQjRdYh3DDzwhuRYiWDJkmOTHfy9\n",
              "NMbPMt+nDjnbVrUPvaI45gfw2FIcoBFiPeZb0oFSvd6p9JZyQr2030I8ZAnSirZ2UOkHwJ4MZv6I\n",
              "6UVByBWalvZPYvSU4A6VzVsIHzdOXURdZ1n4amSMJ25X9/y+eD1NsKWQxYas5Xk/TvysZQtz6Sjr\n",
              "3opE/IgMhdORPc+23BqnPNyAgUWZ1JBt9cfjvCYupgagcrfSZiKbA2G77Zd1NMRGuRjsYL8DYlts\n",
              "hVJrGrhXUwFwbfaAnAfGHS8v00yy8DBvapF4R0xGdJG2mi1gwShxWjlICC3tXPQlBQcHn2efDUXZ\n",
              "DL/peVOk0WhCgW73Ce8s7jATC50Mi4mqPU+Bj5SxRWfXrmzRdcgrOkE2h+9Q8LBgm4AAAABxQZ5C\n",
              "eIR/BVU1Y+HvRO2WAAADACAutVMsW8DXtFIJtqYwBWnPLsABwo+gA6WW0dDiwbTyQBSlxuSsGt+1\n",
              "ckAVIa+1NS1lxuh7jfKRvdvVf8+oAdzYMz5DNwdhkklatI3zyfjsbt0De8sNTQjwasI3gj8AAABD\n",
              "AZ5hdEf/B+J+sSEw/YVwAAADAAAk00WpVC+T7BCqxTEDgj2/6jYXYxrNbOPxCQ7anaLt5f2x3Rmp\n",
              "pEdedpD8gyBRwAAAACgBnmNqR/8AAa+8cdalChPZj7Cv8epiuZPN+pQkyqiZlPoBXNbB3DlhAAAA\n",
              "bUGaaEmoQWiZTAhn//6eEAADXuxegC3KJlZ4lx+VVQvjbVVP73jji4Yf88IuE/gkmgvMfSNDhhaO\n",
              "WROqHs9VEzTZYex+r2ZYHcjVhfynrXmwMQuI7S8j9yHq7uflER65HM3zWiF2K8Dpfjz1rfkAAAAt\n",
              "QZ6GRREsI/8AAQ1/V6Wb8p2zpZPh2fRBOXE0BnvgQtYWokOKJFRLleQYUBHBAAAAfwGepXRH/wAB\n",
              "r6PQDwAWyxmzfn6az1Cx3hnhNOU3LIkQ512G0Rv8YI8srlLjFvRE67jaw4RHYpnYTe59MQVemSFa\n",
              "8/X1pY4Mz63t+EsQsCpdZPzWjmOmTlkP2MHx0rwOurZFIflfHRJfg0lWt51zEBP1Y67uuiWnbTWg\n",
              "GY68gn8AAAAWAZ6nakf/AADYSjrgkTDFUzquFopZUAAAAFtBmqxJqEFsmUwIZ//+nhAAA2B0adAB\n",
              "0Nm6/Dt9WURAkWP6ODvolePaZeXND/Wc0uan9IMO+JciMYvETyySQ7SF1hkh/MwaJqBxnmTBA606\n",
              "75f6dKIVbnLK3Y1MAAAAUkGeykUVLCP/AAEOlEgA/f5nJ33uGZMZ82AU11OAiag1UoV/oR9lhW99\n",
              "GnbzNLNXTcN2/bPdE0jJBvPBunADYnEgsuedA0a39qPcOQzcevCwJ8UAAAAYAZ7pdEf/AAGwu6KI\n",
              "elInjxfrua9mbF2wAAAAFgGe62pH/wABr/bGrWWnWt0lt0jc0sAAAABqQZrwSahBbJlMCGf//p4Q\n",
              "AANPzagAGhThvFLVk1EPWHl+Rr5lnbNWWpilsCK2uMqcuv+pMbq5I7wptfvuEMKcnm+JW0U33135\n",
              "MVgXi76ILXlEnVt/eC3xWYgxKRoBmUwJxW6uzIIwuGatgQAAAF1Bnw5FFSwj/wABFimkCqvodXw5\n",
              "3QueJo6S+BVbrdPtuod6+FcAJOr44Yk+UVxAGqPE7vgUhI8EOfZz+mm0X8bgXctf/rhlGVnyaClQ\n",
              "8+ony1DesOIKLBLs5fxFpRUAAAAkAZ8tdEf/AAGwu6KN9oFJ44GUGR2aCXnFqNGtZyh5fFQM6KaB\n",
              "AAAAGwGfL2pH/wABr/bGrw23tV5st+G5sFB2O8yzgAAAAHpBmzRJqEFsmUwIX//+jLAAA2TydgE1\n",
              "QsZ5xfP90s7epnsyHympG6Ixqms86XgFhIFRr8W6xsFv0Q7HhjN9hx1bn/LG8n+L2fBryq9HeQZB\n",
              "K1/PivbWWGzuhFwtH47JByx1juKS22jH5js2JMrWgy4ukbU+Q5Z+IYezgAAAACtBn1JFFSwj/wAB\n",
              "FX69Ezrv/+zI6hADcAiGKmbTGgj21mwF+uozO9ruMiphAAAATwGfcXRH/wABqyeU2WK4OlEtXIYg\n",
              "BbqFAb3NTGvoCXH9d7NquXmwiHLXSIcAalBzufeB10AmBQ70aOPCYfyx3RSIvt56z42qpfNuKek9\n",
              "A1oAAAAYAZ9zakf/AAEt+WODUxYTFsBLIhElBIMgAAAAj0Gbd0moQWyZTAhn//6eEAADX28REZle\n",
              "sZAAWxBbsD+yiULLl+DMw4cQMXKX0hDzPbMchVX4o0G47X14q6YFG+zURfL0F9r2NlI8+ER8zTvV\n",
              "CoRO2V8jz5T/Tt34a81HdZ1tI9V3uaiB69u8SbMllBI9D/5HN+LLv8vLFNHyDBm21bPBzFY4gqti\n",
              "9Xpj0DuBAAAAPkGflUUVLCP/AAEMzBBWnnyI0craHYTCjQV/aZJxTACVzm5GjBbqGn7+mdwlrqr5\n",
              "2Ho6GM8rHsx9tWOMub21AAAAKgGftmpH/wABrzpE+1HVSKG77epEq2cBMuuAC5S5KiBiuLL3u+SJ\n",
              "rSYzYQAAAHlBm7tJqEFsmUwIZ//+nhAAA19KLfvnygCJS4vZfnEBBre+CZvBTxyeFGgieqm0FLEC\n",
              "WzV8arWHO5Wn+kj9WZrf5tB694YefG9LocwvPmVxVybnM3jAa9F/bhUyrMK6WqhgpQ6ZXIJvZqNt\n",
              "Pfgos6/+U2gVcl3Ri+fBAAAAHkGf2UUVLCP/AAEN5DwMcHnnlaSyeFE6GjzEIXNlgAAAAAwBn/h0\n",
              "R/8AAAvuFpcAAAAYAZ/6akf/AAGwkqQY2X5W9TRrsUHBjaqwAAAAfUGb/0moQWyZTAhn//6eEAAD\n",
              "SsS0agBxo2qTRi8bmOqVxw22/7y8YGgHoYHzcTK0e1rTzOsKzUITeuc3gULZv7aAUiD3QIM1C9uU\n",
              "DXpX+OJNa68Lc+CRCi606rfS42E/ryWUQC0iDx3pfcQYBdEhgdH1MqcID5oEj0TMgruZAAAAU0Ge\n",
              "HUUVLCP/AAEJyoxKbdXqwj9BBIQAN4VZrPiifFjwprsSIlYrGP/dUI1UB3rDVqer4l1ZsZA/YWKI\n",
              "4eUIsxSbtVGovbm8vsk4igqrIXSBVLcvAAAAGwGePHRH/wABr3YTnl6E3Es2t7mgqd48MtpmZAAA\n",
              "AEYBnj5qR/8AAbDvEogAuDI9oCGZVxfPWFEIawCRtb5bMX9VmUPET89DuqXPvQc1OVt5DCeNo7EC\n",
              "FfQlXZYRvWJA5Owi1zbkAAAAnkGaI0moQWyZTAhn//6eEAADXivjYIIAHRJyQYvjesBLKeJA9qys\n",
              "WZria4lqIvlKRH5aMwcRFUjpbdm5x1q3xHDAKGq6GrxcNWMyCaDOHA0qpB3yKrh1e+A4/zrmkT/b\n",
              "ucLsFEpU/G3bgiQT8RAAmWkQltNPpm/aChsffTiovkaUgFuFu/bn7NDQIIZlvxUy41ZuIm+7IqBS\n",
              "J6kRZsonAAAAIUGeQUUVLCP/AAEN5DwMcHuLBs5IJCR6solj0UAw9AqpNwAAABIBnmB0R/8AANLh\n",
              "sjwPwyttV90AAAAWAZ5iakf/AAGwkqQY2X5W9TrDBpYeyQAAABpBmmdJqEFsmUwIZ//+nhAAAZul\n",
              "aha9MxbJcQAAABRBnoVFFSwj/wAAgsEss1TQ/ZVhMwAAABABnqR0R/8AANLhwp7WqZnFAAAADAGe\n",
              "pmpH/wAAC/SgXQAAAHZBmqtJqEFsmUwIZ//+nhAAA14r4sE/nRoAbJs1OvR9Z61JWLE6n4R8p9Om\n",
              "a0C4HytHWTq9i/8jsVPs5qCD7Ik/biJh7FEM+Iri2Cf3+FNm3RlVmPtjJNJu+PKnzQo1rLUVDvls\n",
              "N74u3ZjImHOTkMp8RkuwuKugAAAAnUGeyUUVLCP/AAEV5CzG8AASzwJeYJy4/izZd2WF+eclesYJ\n",
              "CBIjclaDtc9RqZGNBXkc13OtW3UeRVQOxvoAgPyVMllO49IIwtD5NBqsnyO/JnlplgVFNhuiFYnE\n",
              "RWi/hFE7P9JsA0bmeT8aanjXF1RRl5vJZXpbfD+MAOPYHdER0ItmOaHCsO4CjvxQ3jGzjGXZPU0O\n",
              "BrNiCUtFQsAAAAAbAZ7odEf/AAGwO5E0K/8MCln8Za2jZ12KA5VVAAAARwGe6mpH/wABqwH5fSDT\n",
              "kALdNkARU156VU82hwe29jSK23grv1cTAGfDskESXrdH4ULsBXmKWzc4jyeLqdH/AkeS7BS+TlgI\n",
              "AAAAjUGa70moQWyZTAhn//6eEAADX0ocrpMAOAohSAYcKsxtY3ZV4U77zPfS4uvCuvXo/0pkQ4rf\n",
              "p+cPlfr9+Ya2EI9SL8PY4xYskfWkg5H7rNOmaP70rT3AMTkT3NFZuI7bJmOFusneBJns8GOVe8Af\n",
              "dO8kBabj131qHlUGXc5E7rMLiF/0+rYYbwejFQcRagAAACRBnw1FFSwj/wABCbeZtk4hqSX/abtn\n",
              "KCwL193KFa652/cVgYEAAAARAZ8sdEf/AADX4A5QrE0F19kAAAA/AZ8uakf/AAG68SzpVUlYgALa\n",
              "58QZeojEDvhDeUfP88RTNjifIuU8Oz2TiVnd0m/Oc8PBFnDHPI9AKQ7PFFfDAAAA2EGbM0moQWyZ\n",
              "TAhn//6eEAADYninQAOiSuKBogzki8v/ajdh5CnDVHdHKNvUTqMsomwBYnoDeGi0jdf0fhvRfgYG\n",
              "djwzZ/AOcJdiCuvz4cQ/hfYY8JHd1yGzfxlQbyey6AaJeoYhlpzIXsVpWGkUyuUWNaSOCbCdLEOd\n",
              "FZ1bkJ+1WszgTWpMtVp8JKwFYQR8ZAh7yPbud9aJX5nY+XHgIP7xjt+HY47dW27ynD8qyvw18462\n",
              "t/gt+5K35flVIzBoKXHDXmGbs8foyA2bffGptTQLWL8wOQvoHwAAAChBn1FFFSwj/wABDQeP+aHD\n",
              "B/G4I6/jAyY7lr9L411dE1rJmT4Zw8TcAAAAGwGfcHRH/wABsFo+eBT7Rx1uDT5YWUo01UfLgQAA\n",
              "ABYBn3JqR/8AAbCSpBgDExM2bXC6Wh8bAAAAlUGbd0moQWyZTAhn//6eEAAGn9jwyZ/fSjTAF4Sx\n",
              "99wyl/GtBKBcnLNybs7jvcLGwrG+DK8wUbPUd7nTT2EcSe3ETjRGmx+tPxcA6vZx+r/dG0UKkz8/\n",
              "lmv8F8ViMQqKcg45UBfh70q/pS4RfyOI21Gi+bYTcQgmZKwv0d6zPTK+k/gQj7HQy7Ium8khYOFn\n",
              "J+P6sZj2AAAAH0GflUUVLCP/AAENLlQ8RT9LHTEgPLvyCS96D4BSNCEAAAAZAZ+0dEf/AAGwu6KN\n",
              "9oFSWQ9SWGszc2VjgAAAABABn7ZqR/8AANNKTsLqZrzjAAAAGUGbu0moQWyZTAhf//6MsAABnqs7\n",
              "lxE3ukEAAAAWQZ/ZRRUsI/8AAQ4qECXpSI4LjIezlAAAABABn/h0R/8AANLhwp7WqZnFAAAADAGf\n",
              "+mpH/wAAC/SgXQAAADFBm/5JqEFsmUwIZ//+nhAAAksKZNJVoA5XjedP1E7et3AKs9jid7p+RNWB\n",
              "2/JSRmCBAAAAFUGeHEUVLCP/AAEOKguV6x+6YPwrIQAAAFYBnj1qR/8AAbB9u/kALZaI0ycF+dZA\n",
              "JfMx9NeHcmow06SDwV3TWh/D9Lj3sUYsZampOS7Dq0AFvxrxukKY3DkFvIR64LMu9WDNCgt6b1Ti\n",
              "IkhuLt396AAAACtBmiJJqEFsmUwIZ//+nhAAA0tGMEX1kwA3b9CyDCy65dByk6TqLCJK59rAAAAA\n",
              "GEGeQEUVLCP/AAENf1982To5j2UZDZWugQAAAFABnn90R/8AAbCZcIgAtrlqcpE2ZRnorYaFNk8M\n",
              "9VLAvEsyDpgul5V1Nb5G0qJJcdskEh7WhtraC+nuW4ubHZC0OmfABoUWSdZM3jjnilkJ6gAAAAwB\n",
              "nmFqR/8AAAv0oF0AAAAXQZpmSahBbJlMCGf//p4QAAZ32PCiTcAAAAARQZ6ERRUsI/8AAAdvc2hK\n",
              "k5EAAAAMAZ6jdEf/AAAL7haXAAAADAGepWpH/wAAC/SgXQAAABNBmqpJqEFsmUwIX//+jLAAAAdV\n",
              "AAAAEUGeyEUVLCP/AAAHb3NoSpOQAAAADAGe53RH/wAAC+4WlwAAAAwBnulqR/8AAAv0oF0AAABG\n",
              "QZruSahBbJlMCF///oywAANSC+bKIAEnJ2+nhWuBVWDg3DufhL5Aodvr9XRSrK1+GZMq9EiQhrIh\n",
              "wePUtPa3muznNSlagAAAAE9BnwxFFSwj/wABDPPCIIgA/bScBFJs2VEYLC4uuDmLIOzUkrLHwWqX\n",
              "L1pmXW9jZFRD8y2KkuvqXT6ABPXh9KTQIdS5CEAkyiIM8AOvKL3KAAAAVQGfK3RH/wABsDzcmAFn\n",
              "cYwtsaVAKeH2qCpHDkC9LLx51yQ/zP95UkrG/U+AklIioTKUiDCiHqGG7l4osyVW41u63349qJsw\n",
              "I8YVh19ZySGtuu8ERcEAAAAdAZ8takf/AAGv9sQHUthVjnpq4RCUeUOP9r5gkskAAACJQZsySahB\n",
              "bJlMCF///oywAANk7MgAjhB1vSjgVJJMhkluaovw0LcpenJl1abwoGecsu6eAYpapH9TskErXzKZ\n",
              "7d5rshTCtwo+CS0S4lJLwtN2X3n4XNaSeQw1okcgQ8D0k2FGKjEDv0bj0JwhJaYjLbMXOk3NT9pA\n",
              "Jv9Or/3XiTHSofWnZ0MaZHEAAAAiQZ9QRRUsI/8AAQ3kO+mDJ+eckr4XBBLbvJFN4EO4Ru0x4AAA\n",
              "ABEBn290R/8AANfgDlCsTQXX2AAAABkBn3FqR/8AAa/1U3MaVIBTAtIXZ1y3ucU7AAAAXUGbc0mo\n",
              "QWyZTAhf//6MsAADZXoNU3AA3kuCbpeI4E2E4RkgiYrkHv6WLDhoJag4LcCYVYWJav3IPbjmBONx\n",
              "dj09Y/h+CRNZF4UdQLWqAolZXE4i62ssF29zkhSbggAAAOhBm5dJ4QpSZTAhf/6MsAADZijqpAA4\n",
              "3gln+M6Fkl/xgK/x/1pE5rlvQ2D4OXfbigG4ZJOte+2olNFnRct4TgTa3D8raF0ZInaKd2jXmx31\n",
              "FmM8/vsMfyqE+4fqtDw54G5mwBY9X+IFIAVHhQb8Qi5qCfAEaEzBIJNf5iHmxoWbQ+F+xqQ47QOi\n",
              "7cYJiSqkcSJy48BQB741XoV86ombS753oMTj9srV9mjAhVHJqxm85/Ij1ZqwhdKKqrQTE2mX7Tsl\n",
              "h3eNngc0QZ/1at8WeFOPcgMOirDvjrpK/upGa0kpn6YS99Wu6xfAAAAAbkGftUU0TCP/AAEMqlZG\n",
              "H0ABE/TE4tuBBgIvNqR9Oe3XrGozIJuh5rqH3bvb9mk1qOg6voPba4QZJRbZbM0fsqRf6MAOlSAj\n",
              "jDswJLLXvnGzm51YU15Q7HFmhWyS7e6wkVTfQbrlAt5Cv+h5uD8VAAAARgGf1HRH/wABukLSyN4A\n",
              "WcacWWqz5eBb383Mi7Zt5TVKPVMUNaltXQbc+Rjtmcx0whDUC05q6eIw7P7GRJrLRBEAIuvfe0AA\n",
              "AAAfAZ/Wakf/AAGwkqPRn56khADjmjjj5xPat46EVDAkQQAAAMVBm9lJqEFomUwU8L/+jLAAA2QN\n",
              "VEzZACMSUEiHxqISPJP2zkxoUA4pvO7PcbGLgIwo3VIz5QlTsYRiUX60rHhsUeL/4QF1lR/g0AL3\n",
              "MAFlZfScKdtTnSUj86HT0U/BZ6J0eFSGVNv35MdkTsH3xM25ywz301fOXHQ1qxhEyXwC+qP06k97\n",
              "8IMo+ZWWHk2QSvSrx+zlunOxwC3zHel9DVquQ/C1ssD4D7D7B+35cz3ugZ/7otFE1F6zMA+k3SOZ\n",
              "1p91sf2mbQAAAEABn/hqR/8AAa/PRRgBZ3OaIErvIWFXdQyhRJ+JcdBx0QAO/lGV/OSdyw8yQP9P\n",
              "l2rLsC4iJNQ0KrcVeKv3ZteAAAAAykGb+0nhClJlMFLC//6MsAADZimTMekIuAImO/e9jBdMsciS\n",
              "hJIB0aT63vh9rSFH5itJE4I0PgMoHCUwCA62tfXZ3Z7YXvTurwO0cIRWbA1l6H2xUe1YCZHIQxyN\n",
              "s8oFqghosTWjOBjuAixthzkzN61gB9uq9YuO6UgADAkakK7r/70fvqlTq5TUr1y6IRDIFu4keCp0\n",
              "m2GtRaLFrsQinlLJXO6qrdYH7wZg68jW/ITcG/DhnJhXTwrxbCxk187SUT/1mZYVi7jpvGEAAAAb\n",
              "AZ4aakf/AAG59sZUKZwIk1Jq2vX8FigTvUEBAAAALUGaH0nhDomUwIV//jhAAA0w7/zPoq0L11KA\n",
              "xffcQNTCyLYfk/enQcBvUh4loQAAAD9Bnj1FFTwj/wABDRAncV4AbIfhozjEyF0NAVXScvadP1se\n",
              "GYikAxJAhqpIOG5n4CdjpKOuHzScpaZ1X4X8vs0AAABOAZ5cdEf/AAG6QCDzGSkv2Ihuy5tyQe4S\n",
              "CAErLyOSXsZMMLoPMiygB4s9gOJnwPXAFqJNfHexgayNX24zDKxUfMTjVjiQjp3w7T6qF8sIAAAA\n",
              "FgGeXmpH/wABsJKkGAMTF7RnaPfd8WAAAAASQZpDSahBaJlMCP/8hAAAAwGzAAAAEkGeYUURLCP/\n",
              "AAAuoUCwOgZNgAAAAAwBnoB0R/8AAAvuFpcAAAAMAZ6Cakf/AAAL9KBdAAAHzm1vb3YAAABsbXZo\n",
              "ZAAAAAAAAAAAAAAAAAAAA+gAAAfQAAEAAAEAAAAAAAAAAAAAAAABAAAAAAAAAAAAAAAAAAAAAQAA\n",
              "AAAAAAAAAAAAAAAAQAAAAAAAAAAAAAAAAAAAAAAAAAAAAAAAAAAAAAAAAAIAAAb4dHJhawAAAFx0\n",
              "a2hkAAAAAwAAAAAAAAAAAAAAAQAAAAAAAAfQAAAAAAAAAAAAAAAAAAAAAAABAAAAAAAAAAAAAAAA\n",
              "AAAAAQAAAAAAAAAAAAAAAAAAQAAAAAGwAAABIAAAAAAAJGVkdHMAAAAcZWxzdAAAAAAAAAABAAAH\n",
              "0AAAAgAAAQAAAAAGcG1kaWEAAAAgbWRoZAAAAAAAAAAAAAAAAAAAMgAAAGQAVcQAAAAAAC1oZGxy\n",
              "AAAAAAAAAAB2aWRlAAAAAAAAAAAAAAAAVmlkZW9IYW5kbGVyAAAABhttaW5mAAAAFHZtaGQAAAAB\n",
              "AAAAAAAAAAAAAAAkZGluZgAAABxkcmVmAAAAAAAAAAEAAAAMdXJsIAAAAAEAAAXbc3RibAAAALNz\n",
              "dHNkAAAAAAAAAAEAAACjYXZjMQAAAAAAAAABAAAAAAAAAAAAAAAAAAAAAAGwASAASAAAAEgAAAAA\n",
              "AAAAAQAAAAAAAAAAAAAAAAAAAAAAAAAAAAAAAAAAAAAAAAAAABj//wAAADFhdmNDAWQAHv/hABhn\n",
              "ZAAerNlBsJaEAAADAAQAAAMBkDxYtlgBAAZo6+PLIsAAAAAcdXVpZGtoQPJfJE/FujmlG88DI/MA\n",
              "AAAAAAAAGHN0dHMAAAAAAAAAAQAAAGQAAAEAAAAAFHN0c3MAAAAAAAAAAQAAAAEAAAMgY3R0cwAA\n",
              "AAAAAABiAAAAAQAAAgAAAAABAAAFAAAAAAEAAAIAAAAAAQAAAAAAAAABAAABAAAAAAEAAAUAAAAA\n",
              "AQAAAgAAAAABAAAAAAAAAAEAAAEAAAAAAQAABQAAAAABAAACAAAAAAEAAAAAAAAAAQAAAQAAAAAB\n",
              "AAAFAAAAAAEAAAIAAAAAAQAAAAAAAAABAAABAAAAAAEAAAUAAAAAAQAAAgAAAAABAAAAAAAAAAEA\n",
              "AAEAAAAAAQAABAAAAAACAAABAAAAAAEAAAUAAAAAAQAAAgAAAAABAAAAAAAAAAEAAAEAAAAAAQAA\n",
              "BQAAAAABAAACAAAAAAEAAAAAAAAAAQAAAQAAAAABAAAFAAAAAAEAAAIAAAAAAQAAAAAAAAABAAAB\n",
              "AAAAAAEAAAUAAAAAAQAAAgAAAAABAAAAAAAAAAEAAAEAAAAAAQAABQAAAAABAAACAAAAAAEAAAAA\n",
              "AAAAAQAAAQAAAAABAAAFAAAAAAEAAAIAAAAAAQAAAAAAAAABAAABAAAAAAEAAAUAAAAAAQAAAgAA\n",
              "AAABAAAAAAAAAAEAAAEAAAAAAQAABQAAAAABAAACAAAAAAEAAAAAAAAAAQAAAQAAAAABAAAFAAAA\n",
              "AAEAAAIAAAAAAQAAAAAAAAABAAABAAAAAAEAAAQAAAAAAgAAAQAAAAABAAAFAAAAAAEAAAIAAAAA\n",
              "AQAAAAAAAAABAAABAAAAAAEAAAUAAAAAAQAAAgAAAAABAAAAAAAAAAEAAAEAAAAAAQAABQAAAAAB\n",
              "AAACAAAAAAEAAAAAAAAAAQAAAQAAAAABAAAFAAAAAAEAAAIAAAAAAQAAAAAAAAABAAABAAAAAAEA\n",
              "AAUAAAAAAQAAAgAAAAABAAAAAAAAAAEAAAEAAAAAAQAAAgAAAAABAAAFAAAAAAEAAAIAAAAAAQAA\n",
              "AAAAAAABAAABAAAAAAEAAAMAAAAAAQAAAQAAAAABAAADAAAAAAEAAAEAAAAAAQAABQAAAAABAAAC\n",
              "AAAAAAEAAAAAAAAAAQAAAQAAAAABAAAFAAAAAAEAAAIAAAAAAQAAAAAAAAABAAABAAAAABxzdHNj\n",
              "AAAAAAAAAAEAAAABAAAAZAAAAAEAAAGkc3RzegAAAAAAAAAAAAAAZAAADa4AAAF8AAAAdQAAAEcA\n",
              "AAAsAAAAcQAAADEAAACDAAAAGgAAAF8AAABWAAAAHAAAABoAAABuAAAAYQAAACgAAAAfAAAAfgAA\n",
              "AC8AAABTAAAAHAAAAJMAAABCAAAALgAAAH0AAAAiAAAAEAAAABwAAACBAAAAVwAAAB8AAABKAAAA\n",
              "ogAAACUAAAAWAAAAGgAAAB4AAAAYAAAAFAAAABAAAAB6AAAAoQAAAB8AAABLAAAAkQAAACgAAAAV\n",
              "AAAAQwAAANwAAAAsAAAAHwAAABoAAACZAAAAIwAAAB0AAAAUAAAAHQAAABoAAAAUAAAAEAAAADUA\n",
              "AAAZAAAAWgAAAC8AAAAcAAAAVAAAABAAAAAbAAAAFQAAABAAAAAQAAAAFwAAABUAAAAQAAAAEAAA\n",
              "AEoAAABTAAAAWQAAACEAAACNAAAAJgAAABUAAAAdAAAAYQAAAOwAAAByAAAASgAAACMAAADJAAAA\n",
              "RAAAAM4AAAAfAAAAMQAAAEMAAABSAAAAGgAAABYAAAAWAAAAEAAAABAAAAAUc3RjbwAAAAAAAAAB\n",
              "AAAALAAAAGJ1ZHRhAAAAWm1ldGEAAAAAAAAAIWhkbHIAAAAAAAAAAG1kaXJhcHBsAAAAAAAAAAAA\n",
              "AAAALWlsc3QAAAAlqXRvbwAAAB1kYXRhAAAAAQAAAABMYXZmNTcuODMuMTAw\n",
              "\">\n",
              "  Your browser does not support the video tag.\n",
              "</video>"
            ],
            "text/plain": [
              "<IPython.core.display.HTML object>"
            ]
          },
          "metadata": {
            "tags": []
          },
          "execution_count": 67
        }
      ]
    },
    {
      "cell_type": "code",
      "metadata": {
        "colab": {
          "base_uri": "https://localhost:8080/"
        },
        "id": "K2avvhbKh6DY",
        "outputId": "a5eac947-016c-4875-f3b2-8cb8aeddf4ab"
      },
      "source": [
        "print(7+6**5/3)"
      ],
      "execution_count": 1,
      "outputs": [
        {
          "output_type": "stream",
          "text": [
            "2599.0\n"
          ],
          "name": "stdout"
        }
      ]
    },
    {
      "cell_type": "code",
      "metadata": {
        "id": "y2XdZ1w3vTNO"
      },
      "source": [
        ""
      ],
      "execution_count": null,
      "outputs": []
    }
  ]
}