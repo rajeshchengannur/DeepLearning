{
  "nbformat": 4,
  "nbformat_minor": 0,
  "metadata": {
    "colab": {
      "name": "DL101_Vectors.ipynb",
      "provenance": [],
      "collapsed_sections": [
        "NvOIiqyWvcBN",
        "tOivdxUhkOig"
      ],
      "authorship_tag": "ABX9TyNPIrypNiABpaTuFsJQ474d",
      "include_colab_link": true
    },
    "kernelspec": {
      "name": "python3",
      "display_name": "Python 3"
    }
  },
  "cells": [
    {
      "cell_type": "markdown",
      "metadata": {
        "id": "view-in-github",
        "colab_type": "text"
      },
      "source": [
        "<a href=\"https://colab.research.google.com/github/rajeshchengannur/DeepLearning/blob/main/DL101_Vectors.ipynb\" target=\"_parent\"><img src=\"https://colab.research.google.com/assets/colab-badge.svg\" alt=\"Open In Colab\"/></a>"
      ]
    },
    {
      "cell_type": "markdown",
      "metadata": {
        "id": "NvOIiqyWvcBN"
      },
      "source": [
        "#Vector Operations"
      ]
    },
    {
      "cell_type": "code",
      "metadata": {
        "id": "-VDdcHoJKbU2"
      },
      "source": [
        "import numpy as np\r\n",
        "import matplotlib.pyplot as plt"
      ],
      "execution_count": 1,
      "outputs": []
    },
    {
      "cell_type": "code",
      "metadata": {
        "colab": {
          "base_uri": "https://localhost:8080/",
          "height": 265
        },
        "id": "uCYsyAM3Kytv",
        "outputId": "8fdf83d9-394e-40c4-f07d-866a3aef3af2"
      },
      "source": [
        "plt.quiver(0,0,3,4)\r\n",
        "plt.show()"
      ],
      "execution_count": 2,
      "outputs": [
        {
          "output_type": "display_data",
          "data": {
            "image/png": "[encoded data removed]",
            "text/plain": [
              "<Figure size 432x288 with 1 Axes>"
            ]
          },
          "metadata": {
            "tags": [],
            "needs_background": "light"
          }
        }
      ]
    },
    {
      "cell_type": "code",
      "metadata": {
        "colab": {
          "base_uri": "https://localhost:8080/",
          "height": 269
        },
        "id": "6Wi_NK-7LAms",
        "outputId": "396ee925-7339-4a93-a251-6c83812bb36c"
      },
      "source": [
        "plt.quiver(0,0,3,4,scale_units=\"xy\",angles=\"xy\",scale=1)\r\n",
        "plt.xlim(-10,10)\r\n",
        "plt.ylim(-10,10)\r\n",
        "plt.show()"
      ],
      "execution_count": 5,
      "outputs": [
        {
          "output_type": "display_data",
          "data": {
            "image/png": "[encoded data removed]",
            "text/plain": [
              "<Figure size 432x288 with 1 Axes>"
            ]
          },
          "metadata": {
            "tags": [],
            "needs_background": "light"
          }
        }
      ]
    },
    {
      "cell_type": "code",
      "metadata": {
        "colab": {
          "base_uri": "https://localhost:8080/",
          "height": 269
        },
        "id": "Lzy5VDCXe9Az",
        "outputId": "668e7cc6-ba9f-416b-dfeb-e54eaf7611ea"
      },
      "source": [
        "plt.quiver(0,0,3,4,scale_units=\"xy\",angles=\"xy\",scale=1,color='g')\r\n",
        "plt.quiver(0,0,-3,4,scale_units=\"xy\",angles=\"xy\",scale=1,color='r')\r\n",
        "plt.xlim(-10,10)\r\n",
        "plt.ylim(-10,10)\r\n",
        "plt.show()"
      ],
      "execution_count": 6,
      "outputs": [
        {
          "output_type": "display_data",
          "data": {
            "image/png": "[encoded data removed]",
            "text/plain": [
              "<Figure size 432x288 with 1 Axes>"
            ]
          },
          "metadata": {
            "tags": [],
            "needs_background": "light"
          }
        }
      ]
    },
    {
      "cell_type": "code",
      "metadata": {
        "id": "sbYRYMreflzM"
      },
      "source": [
        "#Function to create plot list of vectors all of them in one go, for that tuples are good bez they are not immutable\r\n",
        "def plot_vectors(vecs):\r\n",
        "  colors =['r','b','g','y']\r\n",
        "  i=0\r\n",
        "  for vec in vecs :\r\n",
        "    plt.quiver(vec[0],vec[1],vec[2],vec[3],scale_units=\"xy\",angles=\"xy\",scale=1,color=colors[i%len(colors)])\r\n",
        "    i+=1 \r\n",
        "  plt.xlim(-10,10)\r\n",
        "  plt.ylim(-10,10)\r\n",
        "  plt.show()"
      ],
      "execution_count": 13,
      "outputs": []
    },
    {
      "cell_type": "code",
      "metadata": {
        "colab": {
          "base_uri": "https://localhost:8080/",
          "height": 269
        },
        "id": "j6Eebdllg50C",
        "outputId": "650e685c-34ab-4bcb-c43e-f89d77630db5"
      },
      "source": [
        "plot_vectors([(0,0,3,4),(0,0,-3,4),(0,0,-3,-2),(0,0,3,-1)])"
      ],
      "execution_count": 16,
      "outputs": [
        {
          "output_type": "display_data",
          "data": {
            "image/png": "[encoded data removed]",
            "text/plain": [
              "<Figure size 432x288 with 1 Axes>"
            ]
          },
          "metadata": {
            "tags": [],
            "needs_background": "light"
          }
        }
      ]
    },
    {
      "cell_type": "markdown",
      "metadata": {
        "id": "tOivdxUhkOig"
      },
      "source": [
        "#Vector Operation (Addition,subtraction,dot product)"
      ]
    },
    {
      "cell_type": "code",
      "metadata": {
        "colab": {
          "base_uri": "https://localhost:8080/",
          "height": 269
        },
        "id": "_wWfkBnTif3b",
        "outputId": "d873ff6b-dd51-4418-805e-63c5a2aea83b"
      },
      "source": [
        "vecs =[(0,0,3,4),(0,0,-3,4),(0,0,-3,-2),(0,0,3,-1)]\r\n",
        "plot_vectors([vecs[0],vecs[3]])"
      ],
      "execution_count": 25,
      "outputs": [
        {
          "output_type": "display_data",
          "data": {
            "image/png": "[encoded data removed]",
            "text/plain": [
              "<Figure size 432x288 with 1 Axes>"
            ]
          },
          "metadata": {
            "tags": [],
            "needs_background": "light"
          }
        }
      ]
    },
    {
      "cell_type": "code",
      "metadata": {
        "colab": {
          "base_uri": "https://localhost:8080/"
        },
        "id": "nG17tr0Gku96",
        "outputId": "5b867af5-9d44-4364-9ef0-66100bd45a6f"
      },
      "source": [
        "#for vector addition : when you add two tuples, it actually concatenate , so it should be converted to numpy array\r\n",
        "vecs =[(0,0,3,4),(0,0,-3,4),(0,0,-3,-2),(0,0,3,-1)]\r\n",
        "b = [vecs[0] + vecs[3]]\r\n",
        "print(b)\r\n",
        "b = [np.asarray(vecs[0]) + np.asarray(vecs[3])]\r\n",
        "print(b)\r\n"
      ],
      "execution_count": 28,
      "outputs": [
        {
          "output_type": "stream",
          "text": [
            "[(0, 0, 3, 4, 0, 0, 3, -1)]\n",
            "[array([0, 0, 6, 3])]\n"
          ],
          "name": "stdout"
        }
      ]
    },
    {
      "cell_type": "code",
      "metadata": {
        "colab": {
          "base_uri": "https://localhost:8080/",
          "height": 269
        },
        "id": "SqA53WFBm6rR",
        "outputId": "da3c5952-a14c-47bf-b5fa-1e4068142d36"
      },
      "source": [
        "vecs =[np.asarray((0,0,3,4)),np.asarray((0,0,-3,4)),np.asarray((0,0,-3,-2)),np.asarray((0,0,3,-1))]\r\n",
        "plot_vectors([vecs[0],vecs[3],vecs[0]+vecs[3]])\r\n"
      ],
      "execution_count": 31,
      "outputs": [
        {
          "output_type": "display_data",
          "data": {
            "image/png": "[encoded data removed]",
            "text/plain": [
              "<Figure size 432x288 with 1 Axes>"
            ]
          },
          "metadata": {
            "tags": [],
            "needs_background": "light"
          }
        }
      ]
    },
    {
      "cell_type": "code",
      "metadata": {
        "colab": {
          "base_uri": "https://localhost:8080/",
          "height": 269
        },
        "id": "uQSFlWB2m8S6",
        "outputId": "d78e28a9-0412-4369-b25d-266b7a2798a0"
      },
      "source": [
        "plot_vectors([vecs[0],vecs[3],vecs[0]-vecs[3]])"
      ],
      "execution_count": 32,
      "outputs": [
        {
          "output_type": "display_data",
          "data": {
            "image/png": "[encoded data removed]",
            "text/plain": [
              "<Figure size 432x288 with 1 Axes>"
            ]
          },
          "metadata": {
            "tags": [],
            "needs_background": "light"
          }
        }
      ]
    },
    {
      "cell_type": "code",
      "metadata": {
        "colab": {
          "base_uri": "https://localhost:8080/",
          "height": 269
        },
        "id": "tAQ_iSqQu-VV",
        "outputId": "a7c6a7b9-f246-4341-9edf-031bde7a9ed5"
      },
      "source": [
        "plot_vectors([vecs[0],vecs[3],vecs[0]+(-vecs[3])])"
      ],
      "execution_count": 33,
      "outputs": [
        {
          "output_type": "display_data",
          "data": {
            "image/png": "[encoded data removed]",
            "text/plain": [
              "<Figure size 432x288 with 1 Axes>"
            ]
          },
          "metadata": {
            "tags": [],
            "needs_background": "light"
          }
        }
      ]
    },
    {
      "cell_type": "markdown",
      "metadata": {
        "id": "5EeHwoIWvTWA"
      },
      "source": [
        "#Vector Dot Product"
      ]
    },
    {
      "cell_type": "code",
      "metadata": {
        "id": "DAk8_Yy0vHau"
      },
      "source": [
        "a=np.asarray([3,4])\r\n",
        "b=np.asarray([3,-1])\r\n"
      ],
      "execution_count": 34,
      "outputs": []
    },
    {
      "cell_type": "markdown",
      "metadata": {
        "id": "xYCq76C7w3G2"
      },
      "source": [
        "$\\vec{a}\\cdot\\vec{b}=|\\vec{a}||\\vec{b}|\\cos(\\theta) $\r\n",
        "This is equivalent to multiplying individual element\r\n",
        "$a_x b_x + a_y b_y$\r\n"
      ]
    },
    {
      "cell_type": "code",
      "metadata": {
        "colab": {
          "base_uri": "https://localhost:8080/"
        },
        "id": "djz9cE7uwVPQ",
        "outputId": "8385ea79-737c-4ed2-81c6-dc924d7e8e6b"
      },
      "source": [
        "a_dot_b = np.dot(a,b)\r\n",
        "print(a_dot_b)"
      ],
      "execution_count": 36,
      "outputs": [
        {
          "output_type": "stream",
          "text": [
            "5\n"
          ],
          "name": "stdout"
        }
      ]
    },
    {
      "cell_type": "markdown",
      "metadata": {
        "id": "yggYEqe_zI7y"
      },
      "source": [
        "$a_b =|\\vec{a}|\\cos(\\theta) =|\\vec{a}|\\frac{\\vec{a}\\cdot\\vec{b}}|\\vec{a}||\\vec{b}| = \\frac{\\vec{a}\\cdot\\vec{b}}|\\vec{b}|$"
      ]
    },
    {
      "cell_type": "code",
      "metadata": {
        "id": "vokGzuxAyppu"
      },
      "source": [
        "a_b = np.dot(a,b)/np.linalg.norm(b)\r\n",
        "# this is the magnitude. Magnitude is a scalar. for projecting , we need a diretion , that is the direction of the second vector\r\n",
        "# projection of a on b "
      ],
      "execution_count": 37,
      "outputs": []
    },
    {
      "cell_type": "markdown",
      "metadata": {
        "id": "o9I7qsJp68Ut"
      },
      "source": [
        "$\\vec{a_b}= a_b \\hat{b} = a_b \\frac{\\vec{b}}|\\vec{b}|$\r\n",
        "\r\n",
        "This is the unit vector along the direction of b"
      ]
    },
    {
      "cell_type": "code",
      "metadata": {
        "id": "r2PQtV-E6C-F"
      },
      "source": [
        "vec_a_b = (a_b/np.linalg.norm(b))*b"
      ],
      "execution_count": 39,
      "outputs": []
    },
    {
      "cell_type": "code",
      "metadata": {
        "colab": {
          "base_uri": "https://localhost:8080/"
        },
        "id": "8PH7ADR36Eah",
        "outputId": "e249edfd-dade-461b-c025-9aee2526c94e"
      },
      "source": [
        "print(vec_a_b)\r\n",
        "#let's plot this"
      ],
      "execution_count": 41,
      "outputs": [
        {
          "output_type": "stream",
          "text": [
            "[ 1.5 -0.5]\n"
          ],
          "name": "stdout"
        }
      ]
    },
    {
      "cell_type": "code",
      "metadata": {
        "colab": {
          "base_uri": "https://localhost:8080/",
          "height": 269
        },
        "id": "4_58d77C8Yw-",
        "outputId": "18d73341-92d9-4d5d-90ac-c43e63820968"
      },
      "source": [
        "plot_vectors([np.asarray([0,0,3,4]),np.asarray([0,0,3,-1]),np.asarray([0,0,1.5,-0.5])])\r\n"
      ],
      "execution_count": 47,
      "outputs": [
        {
          "output_type": "display_data",
          "data": {
            "image/png": "[encoded data removed]",
            "text/plain": [
              "<Figure size 432x288 with 1 Axes>"
            ]
          },
          "metadata": {
            "tags": [],
            "needs_background": "light"
          }
        }
      ]
    },
    {
      "cell_type": "code",
      "metadata": {
        "id": "Bi7MBw6u9fsz"
      },
      "source": [
        ""
      ],
      "execution_count": null,
      "outputs": []
    }
  ]
}